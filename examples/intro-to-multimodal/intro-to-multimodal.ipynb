{
 "cells": [
  {
   "cell_type": "markdown",
   "metadata": {},
   "source": [
    "# Introduction to multimodal models in Opper\n",
    "\n",
    "This notebook will show you how to use multimodal models in Opper. We will use the OpenAI gpt-4o model to extract the recipe from an image and translate the weight units to metric."
   ]
  },
  {
   "cell_type": "code",
   "execution_count": 1,
   "metadata": {},
   "outputs": [
    {
     "name": "stdout",
     "output_type": "stream",
     "text": [
      "Requirement already satisfied: opperai in /Users/mattias/Library/Caches/pypoetry/virtualenvs/api-PqV-QdYP-py3.11/lib/python3.11/site-packages (0.6.1)\n",
      "Requirement already satisfied: httpx in /Users/mattias/Library/Caches/pypoetry/virtualenvs/api-PqV-QdYP-py3.11/lib/python3.11/site-packages (from opperai) (0.26.0)\n",
      "Requirement already satisfied: httpx-sse in /Users/mattias/Library/Caches/pypoetry/virtualenvs/api-PqV-QdYP-py3.11/lib/python3.11/site-packages (from opperai) (0.4.0)\n",
      "Requirement already satisfied: pydantic in /Users/mattias/Library/Caches/pypoetry/virtualenvs/api-PqV-QdYP-py3.11/lib/python3.11/site-packages (from opperai) (2.7.0)\n",
      "Requirement already satisfied: anyio in /Users/mattias/Library/Caches/pypoetry/virtualenvs/api-PqV-QdYP-py3.11/lib/python3.11/site-packages (from httpx->opperai) (4.3.0)\n",
      "Requirement already satisfied: certifi in /Users/mattias/Library/Caches/pypoetry/virtualenvs/api-PqV-QdYP-py3.11/lib/python3.11/site-packages (from httpx->opperai) (2024.2.2)\n",
      "Requirement already satisfied: httpcore==1.* in /Users/mattias/Library/Caches/pypoetry/virtualenvs/api-PqV-QdYP-py3.11/lib/python3.11/site-packages (from httpx->opperai) (1.0.5)\n",
      "Requirement already satisfied: idna in /Users/mattias/Library/Caches/pypoetry/virtualenvs/api-PqV-QdYP-py3.11/lib/python3.11/site-packages (from httpx->opperai) (3.7)\n",
      "Requirement already satisfied: sniffio in /Users/mattias/Library/Caches/pypoetry/virtualenvs/api-PqV-QdYP-py3.11/lib/python3.11/site-packages (from httpx->opperai) (1.3.1)\n",
      "Requirement already satisfied: h11<0.15,>=0.13 in /Users/mattias/Library/Caches/pypoetry/virtualenvs/api-PqV-QdYP-py3.11/lib/python3.11/site-packages (from httpcore==1.*->httpx->opperai) (0.14.0)\n",
      "Requirement already satisfied: annotated-types>=0.4.0 in /Users/mattias/Library/Caches/pypoetry/virtualenvs/api-PqV-QdYP-py3.11/lib/python3.11/site-packages (from pydantic->opperai) (0.6.0)\n",
      "Requirement already satisfied: pydantic-core==2.18.1 in /Users/mattias/Library/Caches/pypoetry/virtualenvs/api-PqV-QdYP-py3.11/lib/python3.11/site-packages (from pydantic->opperai) (2.18.1)\n",
      "Requirement already satisfied: typing-extensions>=4.6.1 in /Users/mattias/Library/Caches/pypoetry/virtualenvs/api-PqV-QdYP-py3.11/lib/python3.11/site-packages (from pydantic->opperai) (4.11.0)\n",
      "Note: you may need to restart the kernel to use updated packages.\n"
     ]
    }
   ],
   "source": [
    "%pip install -U opperai\n",
    "\n",
    "from opperai import fn\n",
    "from opperai.types import ImageContent\n",
    "from pydantic import BaseModel, Field\n",
    "from typing import List, Optional\n",
    "\n",
    "# import os\n",
    "# os.environ['OPPER_API_KEY'] = 'YOUR_API_KEY'"
   ]
  },
  {
   "cell_type": "markdown",
   "metadata": {},
   "source": [
    "Our end goal with this excercise is to use gpt-4o to extract a recipe from an image and transform it into a more structured format that can be used for further processing. The image we are working with is \n",
    "\n",
    "<img src=\"dumplings.png\" width=\"500\">\n",
    "\n",
    "An image two pages of a book picturing a dumplings recipe with ingredients and instructions.\n",
    "\n",
    "First we define a function that given an image returns a description of the image. To pass in an image as an argument we use the special `ImageContent` class."
   ]
  },
  {
   "cell_type": "code",
   "execution_count": 2,
   "metadata": {},
   "outputs": [
    {
     "name": "stdout",
     "output_type": "stream",
     "text": [
      "The image features a recipe for 'Canice's Pork and Chive Dumplings' located on pages 60 and 61. It includes a list of ingredients and directions for preparing the dish. The ingredients list includes medium ground pork, chives, garlic, ginger, light soy sauce, Shaoxing rice cooking wine, Chinese chili oil, sesame oil, broth, cornstarch, sugar, white pepper, and salt. The directions are detailed in steps from finely mincing the ingredients to folding, freezing, and cooking the dumplings. Additionally, there are cooking tips for frying and boiling the dumplings, as well as serving suggestions. Page 61 features three images showing the process of assembling the dumplings.\n"
     ]
    }
   ],
   "source": [
    "@fn(model=\"openai/gpt-4o\")\n",
    "def describe(image=ImageContent) -> str:\n",
    "    \"\"\"given an image return the description of that image\"\"\"\n",
    "\n",
    "res = describe(ImageContent.from_path(\"dumplings.png\"))\n",
    "\n",
    "print(res)"
   ]
  },
  {
   "cell_type": "markdown",
   "metadata": {},
   "source": [
    "Since we want to extract the recipe we need to define a Pydantic model that will be used to parse the recipe. We do this by defining a `Recipe` class that inherits from `BaseModel`."
   ]
  },
  {
   "cell_type": "code",
   "execution_count": 3,
   "metadata": {},
   "outputs": [
    {
     "name": "stdout",
     "output_type": "stream",
     "text": [
      "title='Canice’s Pork and Chive Dumplings' ingredients=['1.5 lb medium grown pork (optional: sub in 0.5 lb of finely chopped shrimp)', '1 package wrappers (1 lb)', '1 bunch flowering chives or Chinese chives', '2-4 garlic cloves, to taste', '2 tbsp fresh ginger', '2 tbsp light soy sauce', '2 tbsp Shaoxing rice cooking wine (the brown varieties have more flavour, avoid the clear wines)', '2 tbsp Chinese chili oil', '1-2 tbsp sesame oil', 'A few tablespoons of broth (optional)', '1 tbsp cornstarch', '1 tsp sugar', '1 tsp white pepper', '1 tsp salt'] instructions=['1. Finely mince or food process the chives, garlic and ginger.', '2. Add to bowl with pork, dump in all the seasoning (and broth if you have it). Stir, in only one direction, until smooth, even a little sticky. ‘Beating in’ the liquid incorporates it into the meat and makes it springy, instead of shrinking while cooking and leaving you with a saggy, empty bag of skin.', '3. Start folding: put about 1 tbsp filling in the centre of the wrapper, dip your finger in a bowl of warm water, wet the entire edge, fold in half and pleat from one edge to the other, pinching shut as you go. Pinch the entire edge again for good measure.', '4. If you’re freezing: set on a baking sheet with space around each dumpling. Freeze for an hour, bang the whole sheet on the counter until they come loose and put in a freezer bag. Keeps in freezer for a month or two.', '5. For pan-fried potstickers: swirl some oil into a hot pan, set the dumplings in evenly and shake the pan so they don’t stick. Fry on medium-high heat till they have brown crispy bottoms. Add in a 1/4 cup water and cover. Steam until water evaporates, remove lid and fry till crispy again, adding a little more oil if needed. Always shake the pan to prevent sticking.', '6. For boiled dumplings: bring pot of water to rolling boil. Add dumplings.', '7. Stir frequently till it comes back to a boil. Keep cooking for another 3-4 minutes, add some Chinese greens in the last minute if you want some veggies with it. Drain the whole thing.', '8. Serve with a dipping sauce made of equal parts Chinkiang black vinegar, light soy sauce and Lao Gan Ma chili oil, and a few drops of sesame oil. Minced garlic and sesame seeds are also good additions.', '9. You might end up with leftover filling. If you do, it is excellent stir-fried with Shanghai noodles and sad fridge vegetables.']\n"
     ]
    }
   ],
   "source": [
    "class Recipe(BaseModel):\n",
    "    title: str\n",
    "    ingredients: List[str]\n",
    "    instructions: List[str]\n",
    "\n",
    "\n",
    "@fn(model=\"openai/gpt-4o\")\n",
    "def extract(image=ImageContent) -> Recipe:\n",
    "    \"\"\"given an image, extract the recipe\"\"\"\n",
    "\n",
    "res = extract(ImageContent.from_path(\"dumplings.png\"))\n",
    "\n",
    "print(res)"
   ]
  },
  {
   "cell_type": "markdown",
   "metadata": {},
   "source": [
    "To capture the ingredients a bit more detailed we define an `Ingredient` model that will be used to parse the ingredients. This model will have a `item`, `amount` and `unit` field as well as an optional `notes` field to capture any notes about the ingredient."
   ]
  },
  {
   "cell_type": "code",
   "execution_count": 4,
   "metadata": {},
   "outputs": [],
   "source": [
    "class Ingredient(BaseModel):\n",
    "    item: str\n",
    "    amount: float\n",
    "    unit: str\n",
    "    notes: Optional[str] = None\n",
    "\n",
    "class Recipe(BaseModel):\n",
    "    title: str\n",
    "    ingredients: List[Ingredient]\n",
    "    instructions: List[str]\n",
    "\n",
    "\n",
    "@fn(model=\"openai/gpt-4o\")\n",
    "def extract(image=ImageContent) -> Recipe:\n",
    "    \"\"\"given an image, extract the recipe\"\"\"\n",
    "\n",
    "recipe = extract(ImageContent.from_path(\"dumplings.png\"))\n",
    "\n",
    "print(recipe)"
   ]
  },
  {
   "cell_type": "markdown",
   "metadata": {},
   "source": [
    "Now we have the recipe we can translate the units to metric. We do this by defining a function that takes a `Recipe` and returns a `Recipe` with the units translated."
   ]
  },
  {
   "cell_type": "code",
   "execution_count": null,
   "metadata": {},
   "outputs": [
    {
     "name": "stdout",
     "output_type": "stream",
     "text": [
      "title='Canice’s Pork and Chive Dumplings' ingredients=[Ingredient(item='Medium ground pork', amount=0.68, unit='kg', notes='optional: sub 0.5 lb of finely chopped shrimp'), Ingredient(item='Wrapper package', amount=1.0, unit='package', notes='(1 lb)'), Ingredient(item='Flowering chives or Chinese chives', amount=1.0, unit='bunch', notes=None), Ingredient(item='Garlic cloves', amount=2.0, unit='', notes='to taste'), Ingredient(item='Fresh ginger', amount=2.0, unit='tbsp', notes=None), Ingredient(item='Light soy sauce', amount=2.0, unit='tbsp', notes=None), Ingredient(item='Shaoxing rice cooking wine', amount=2.0, unit='tbsp', notes='the brown varieties have more flavour, avoid the clear wines'), Ingredient(item='Chinese chili oil', amount=2.0, unit='tsp', notes=None), Ingredient(item='Sesame oil', amount=1.0, unit='tbsp', notes=None), Ingredient(item='Broth', amount=0.0, unit='tablespoons', notes='optional'), Ingredient(item='Cornstarch', amount=1.0, unit='tbsp', notes=None), Ingredient(item='Sugar', amount=1.0, unit='tsp', notes=None), Ingredient(item='White pepper', amount=1.0, unit='tsp', notes=None), Ingredient(item='Salt', amount=1.0, unit='tsp', notes=None)] instructions=['Finely mince or food process the chives, garlic and ginger.', 'Add to bowl with pork, dump in all the seasoning (and broth if you have it). Stir, in only one direction, until smooth, even a little sticky. ‘Beating’ in the liquid incorporates it into the meat and makes it springy, instead of shrinking while cooking and leaving you with a saggy, empty bag of skin.', 'Start folding: put about 1 tbsp filling in the centre of the wrapper, dip your finger in a bowl of warm water, wet the entire edge, fold in half and pleat from one edge to the other, pinching shut as you go. Pinch the entire edge again for good measure.', 'If you’re freezing: set on a baking sheet with space around each dumpling. Freeze for an hour, bang the whole sheet on the counter until they come loose and put in a freezer bag. Keeps in freezer for a month or two.', 'If cooking immediately:', 'For pan-fried potstickers: swirl some oil into a hot pan, set the dumplings in evenly and shake the pan so they don’t stick. Fry on medium-high heat till they have brown crispy bottoms. Add in a 1/4 cup water and cover. Steam until water evaporates, remove lid and fry till crispy again, adding a little more oil if needed. Always shake the pan to prevent sticking.', 'For boiled dumplings: bring pot of water to rolling boil. Add dumplings.', 'Stir frequently till it comes back to a boil. Keep cooking for another 3-4 minutes, add some Chinese greens in the last minute if you want some veggies with it. Drain the whole thing.', 'Serve with a dipping sauce made of equal parts Chinkiang black vinegar, light soy sauce and Lao Gan Ma chili oil, and a few drops of sesame oil. Minced garlic and sesame seeds are also good additions.', 'You might end up with leftover filling. If you do, it is excellent stir-fried with Shanghai noodles and sad fridge vegetables.']\n"
     ]
    }
   ],
   "source": [
    "@fn(model=\"openai/gpt3.5-turbo\")\n",
    "def translate_to_metric(recipe: Recipe) -> Recipe:\n",
    "    \"\"\"Given a recipe, translate the weight units to metric system, keep tbsp and tsp as is\"\"\"\n",
    "\n",
    "\n",
    "translated = translate_to_metric(recipe)\n",
    "\n",
    "print(translated)"
   ]
  },
  {
   "cell_type": "markdown",
   "metadata": {},
   "source": [
    "Finally we want to scale the recipe to the number of people. We do this by defining a function that takes a `Recipe` and returns a `Recipe` with the ingredients scaled.\n",
    "\n",
    "Since some ingredients do not scale linearly (such as salt) we allow the model to add notes about such ingredients. We do this by defining a `RecipeWithNotes` class that inherits from `Recipe` and adds a `notes` field."
   ]
  },
  {
   "cell_type": "code",
   "execution_count": null,
   "metadata": {},
   "outputs": [
    {
     "name": "stdout",
     "output_type": "stream",
     "text": [
      "title='Canice’s Pork and Chive Dumplings' ingredients=[Ingredient(item='Medium ground pork', amount=1.36, unit='kg', notes='optional: sub 0.5 lb of finely chopped shrimp'), Ingredient(item='Wrapper package', amount=2.0, unit='package', notes='(1 lb each)'), Ingredient(item='Flowering chives or Chinese chives', amount=2.0, unit='bunch', notes=None), Ingredient(item='Garlic cloves', amount=4.0, unit='', notes='to taste'), Ingredient(item='Fresh ginger', amount=4.0, unit='tbsp', notes=None), Ingredient(item='Light soy sauce', amount=4.0, unit='tbsp', notes=None), Ingredient(item='Shaoxing rice cooking wine', amount=4.0, unit='tbsp', notes='the brown varieties have more flavour, avoid the clear wines'), Ingredient(item='Chinese chili oil', amount=4.0, unit='tsp', notes=None), Ingredient(item='Sesame oil', amount=2.0, unit='tbsp', notes=None), Ingredient(item='Broth', amount=0.0, unit='tablespoons', notes='optional'), Ingredient(item='Cornstarch', amount=2.0, unit='tbsp', notes=None), Ingredient(item='Sugar', amount=2.0, unit='tsp', notes=None), Ingredient(item='White pepper', amount=2.0, unit='tsp', notes=None), Ingredient(item='Salt', amount=2.0, unit='tsp', notes=None)] instructions=['Finely mince or food process the chives, garlic, and ginger.', \"Add to bowl with pork, dump in all the seasoning (and broth if you have it). Stir, in only one direction, until smooth, even a little sticky. 'Beating' in the liquid incorporates it into the meat and makes it springy, instead of shrinking while cooking and leaving you with a saggy, empty bag of skin.\", 'Start folding: put about 1 tbsp filling in the center of the wrapper, dip your finger in a bowl of warm water, wet the entire edge, fold in half and pleat from one edge to the other, pinching shut as you go. Pinch the entire edge again for good measure.', 'If you’re freezing: set on a baking sheet with space around each dumpling. Freeze for an hour, bang the whole sheet on the counter until they come loose and put in a freezer bag. Keeps in freezer for a month or two.', 'If cooking immediately:', 'For pan-fried potstickers: swirl some oil into a hot pan, set the dumplings in evenly and shake the pan so they don’t stick. Fry on medium-high heat till they have brown crispy bottoms. Add in a 1/4 cup water and cover. Steam until water evaporates, remove lid and fry till crispy again, adding a little more oil if needed. Always shake the pan to prevent sticking.', 'For boiled dumplings: bring pot of water to rolling boil. Add dumplings.', 'Stir frequently till it comes back to a boil. Keep cooking for another 3-4 minutes, add some Chinese greens in the last minute if you want some veggies with it. Drain the whole thing.', 'Serve with a dipping sauce made of equal parts Chinkiang black vinegar, light soy sauce and Lao Gan Ma chili oil, and a few drops of sesame oil. Minced garlic and sesame seeds are also good additions.', 'You might end up with leftover filling. If you do, it is excellent stir-fried with Shanghai noodles and sad fridge vegetables.'] notes=None\n"
     ]
    }
   ],
   "source": [
    "class RecipeWithNotes(Recipe):\n",
    "    notes: Optional[str] = Field(None, description=\"Additional notes for the recipe for example if not all ingredients scale well\")\n",
    "\n",
    "@fn(model=\"openai/gpt-4o\")\n",
    "def scale(recipe: Recipe, people: int) -> RecipeWithNotes:\n",
    "    \"\"\"Given a recipe, scale the ingredients to the number of people\"\"\"\n",
    "\n",
    "scaled = scale(translated, 10)\n",
    "print(scaled)"
   ]
  },
  {
   "cell_type": "markdown",
   "metadata": {},
   "source": [
    "This is the end of the tutorial. We have now seen how to use images together with multimodal models and structured data in Opper."
   ]
  }
 ],
 "metadata": {
  "kernelspec": {
   "display_name": "Python 3 (ipykernel)",
   "language": "python",
   "name": "python3"
  },
  "language_info": {
   "codemirror_mode": {
    "name": "ipython",
    "version": 3
   },
   "file_extension": ".py",
   "mimetype": "text/x-python",
   "name": "python",
   "nbconvert_exporter": "python",
   "pygments_lexer": "ipython3",
   "version": "3.11.8"
  }
 },
 "nbformat": 4,
 "nbformat_minor": 4
}
