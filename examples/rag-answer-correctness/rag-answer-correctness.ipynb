{
 "cells": [
  {
   "cell_type": "markdown",
   "metadata": {},
   "source": [
    "# RAG metrics: answer correctness\n",
    "\n",
    "This notebook will implement and explore an evaluation metric for RAG called answer correctness.\n",
    "The notebook is accompanied with a blog post that can be found [here](https://www.opper.ai/blog/rag-metrics-answer-correctness)."
   ]
  },
  {
   "cell_type": "code",
   "execution_count": null,
   "metadata": {},
   "outputs": [],
   "source": [
    "%pip install -U opperai pandas\n",
    "\n",
    "# import os\n",
    "# os.environ['OPPER_API_KEY'] = 'YOUR_API_KEY'"
   ]
  },
  {
   "cell_type": "markdown",
   "metadata": {},
   "source": [
    "## Answer Correctness\n",
    "\n",
    "Answer correctness is a metric that measures the accuracy of the RAG answer, comparing the generated answer to the ground truth. The `calculate` method will take in the generated answer and the ground truth and return a number between 0 and 1. A higher score indicates a higher correctness. See [f-score](https://en.wikipedia.org/wiki/F-score) for more information."
   ]
  },
  {
   "cell_type": "code",
   "execution_count": 15,
   "metadata": {},
   "outputs": [],
   "source": [
    "from typing import List\n",
    "from pydantic import BaseModel, Field\n",
    "from opperai import fn\n",
    "\n",
    "\n",
    "class Reason(BaseModel):\n",
    "    statement: str = Field(..., description=\"The statement that was classified\")\n",
    "    reason: str = Field(\n",
    "        ..., description=\"The reason why the statement was classified as such\"\n",
    "    )\n",
    "\n",
    "\n",
    "class CorrectnessClassifications(BaseModel):\n",
    "    true_positives: List[Reason] = Field(..., description=\"True positives - statements that are present in answer that are also directly supported by the one or more statements in ground truth\")\n",
    "    false_positives: List[Reason] = Field(..., description=\"False positives - statements that are present in answer but not directly supported by any statement in ground truth\")\n",
    "    false_negatives: List[Reason] = Field(..., description=\"False negatives - statements found in the ground truth but not present in answer\")\n",
    "\n",
    "    @property\n",
    "    def score(self) -> float:\n",
    "        \"\"\"Given an answer and a ground truth, calculate the correctness (f1) score.\"\"\"\n",
    "\n",
    "        tp = len(self.true_positives)\n",
    "        fp = len(self.false_positives)\n",
    "        fn = len(self.false_negatives)\n",
    "\n",
    "        score = tp / (tp + 0.5 * (fp + fn)) if tp > 0 else 0\n",
    "\n",
    "        return score\n",
    "\n",
    "\n",
    "class Correctness(BaseModel):\n",
    "    @fn(model=\"openai/gpt4-turbo\")\n",
    "    def classify(answer: str, ground_truth: str) -> CorrectnessClassifications:\n",
    "        \"\"\"Given an answer and a ground truth, analyze each statement and classify it as belonging \n",
    "        to one of the classifications.\n",
    "\n",
    "        NOTE Each statement can only belong to one classification.\n",
    "        \"\"\"\n",
    "\n",
    "    def calculate(self, answer: str, ground_truth: str) -> float:\n",
    "        \"\"\"Given an answer and a ground truth, calculate the correctness score.\"\"\"\n",
    "\n",
    "        classifications = self.classify(answer=answer, ground_truth=ground_truth)\n",
    "\n",
    "        return classifications.score"
   ]
  },
  {
   "cell_type": "markdown",
   "metadata": {},
   "source": [
    "We can now try out our correctness calculation. We'll use a couple of samples from the Paul Graham qna dataset that can be found on (Hugging Face)[https://huggingface.co/datasets/LangChainDatasets/question-answering-paul-graham].\n",
    "\n",
    "First we try providing the same input as `answer` and `ground_truth`"
   ]
  },
  {
   "cell_type": "code",
   "execution_count": 16,
   "metadata": {},
   "outputs": [
    {
     "name": "stdout",
     "output_type": "stream",
     "text": [
      "true_positives=[Reason(statement='The two main things the author worked on before college were writing and programming.', reason='This statement is present in both the answer and the ground truth.')] false_positives=[] false_negatives=[]\n",
      "1.0\n"
     ]
    }
   ],
   "source": [
    "correctness_calculator = Correctness()\n",
    "\n",
    "classification = correctness_calculator.classify(\n",
    "    answer=\"The two main things the author worked on before college were writing and programming.\",\n",
    "    ground_truth=\"The two main things the author worked on before college were writing and programming.\",\n",
    ")\n",
    "\n",
    "print(classification)\n",
    "print(classification.score)"
   ]
  },
  {
   "cell_type": "markdown",
   "metadata": {},
   "source": [
    "We now modify the answer by changing `writing` to `cleaning windows` which should give us a lower score."
   ]
  },
  {
   "cell_type": "code",
   "execution_count": 17,
   "metadata": {},
   "outputs": [
    {
     "name": "stdout",
     "output_type": "stream",
     "text": [
      "true_positives=[Reason(statement='programming', reason='This statement is present in both the answer and the ground truth, describing one of the main things the author worked on before college.')] false_positives=[Reason(statement='cleaning windows', reason=\"This activity is mentioned in the answer but not supported by the ground truth, which instead lists 'writing' as the activity.\")] false_negatives=[Reason(statement='writing', reason=\"This activity is listed in the ground truth but omitted in the answer, which mentions 'cleaning windows' instead.\")]\n",
      "0.5\n"
     ]
    }
   ],
   "source": [
    "classification = correctness_calculator.classify(\n",
    "    answer=\"The two main things the author worked on before college were cleaning windows and programming.\",\n",
    "    ground_truth=\"The two main things the author worked on before college were writing and programming.\",\n",
    ")\n",
    "\n",
    "print(classification)\n",
    "print(classification.score)"
   ]
  },
  {
   "cell_type": "markdown",
   "metadata": {},
   "source": [
    "## Naive RAG in Opper \n",
    "\n",
    "To try this out at a little larger scale we could try it out on the Paul Graham qna dataset. To have something to benchmark we can create an index in Opper and upload the dataset and then create a function that uses entries from the index to answer questions.\n",
    "\n",
    "First we load the dataset into an Opper index."
   ]
  },
  {
   "cell_type": "code",
   "execution_count": 18,
   "metadata": {},
   "outputs": [],
   "source": [
    "from opperai import Opper\n",
    "\n",
    "opper = Opper()\n",
    "\n",
    "index = opper.indexes.get(name=\"qna\")\n",
    "if not index:\n",
    "    index = opper.indexes.create(\"qna\")\n",
    "    res = index.upload_file(\"what_i_worked_on.txt\")\n",
    "    print(res)"
   ]
  },
  {
   "cell_type": "markdown",
   "metadata": {},
   "source": [
    "We can now query the index"
   ]
  },
  {
   "cell_type": "code",
   "execution_count": 19,
   "metadata": {},
   "outputs": [
    {
     "name": "stdout",
     "output_type": "stream",
     "text": [
      "[RetrievalResponse(content='What I Worked On\\n\\nFebruary 2021\\n\\nBefore college the two main things I worked on, outside of school, were writing and programming. I didn\\'t write essays. I wrote what beginning writers were supposed to write then, and probably still are: short stories. My stories were awful. They had hardly any plot, just characters with strong feelings, which I imagined made them deep.\\n\\nThe first programs I tried writing were on the IBM 1401 that our school district used for what was then called \"data processing.\" This was in 9th grade, so I was 13 or 14. The school district\\'s 1401 happened to be in the basement of our junior high school, and my friend Rich Draves and I got permission to use it. It was like a mini Bond villain\\'s lair down there, with all these alien-looking machines â€” CPU, disk drives, printer, card reader â€” sitting up on a raised floor under bright fluorescent lights.\\n\\nThe language we used was an early version of Fortran. You had to type programs on punch cards, then stack them in the card reader and press a button to load the program into memory and run it. The result would ordinarily be to print something on the spectacularly loud printer.\\n\\nI was puzzled by the 1401. I couldn\\'t figure out what to do with it. And in retrospect there\\'s not much I could have done with it. The only form of input to programs was data stored on punched cards, and I didn\\'t have any data stored on punched cards. The only other option was to do things that didn\\'t rely on any input, like calculate approximations of pi, but I didn\\'t know enough math to do anything interesting of that type. So I\\'m not surprised I can\\'t remember any programs I wrote, because they can\\'t have done much. My clearest memory is of the moment I learned it was possible for programs not to terminate, when one of mine didn\\'t. On a machine without time-sharing, this was a social as well as a technical error, as the data center manager\\'s expression made clear.', metadata={'source': '/tmp/tmpirtblwfw', 'file_name': 'what_i_worked_on.txt', '_opper_key': '4/2047/7a34d87d-0e05-4f8c-a397-2202fc0f9843', '_opper_index_file_id': 3004}), RetrievalResponse(content=\"I couldn't have put this into words when I was 18. All I knew at the time was that I kept taking philosophy courses and they kept being boring. So I decided to switch to AI.\\n\\nAI was in the air in the mid 1980s, but there were two things especially that made me want to work on it: a novel by Heinlein called The Moon is a Harsh Mistress, which featured an intelligent computer called Mike, and a PBS documentary that showed Terry Winograd using SHRDLU. I haven't tried rereading The Moon is a Harsh Mistress, so I don't know how well it has aged, but when I read it I was drawn entirely into its world. It seemed only a matter of time before we'd have Mike, and when I saw Winograd using SHRDLU, it seemed like that time would be a few years at most. All you had to do was teach SHRDLU more words.\\n\\nThere weren't any classes in AI at Cornell then, not even graduate classes, so I started trying to teach myself. Which meant learning Lisp, since in those days Lisp was regarded as the language of AI. The commonly used programming languages then were pretty primitive, and programmers' ideas correspondingly so. The default language at Cornell was a Pascal-like language called PL/I, and the situation was similar elsewhere. Learning Lisp expanded my concept of a program so fast that it was years before I started to have a sense of where the new limits were. This was more like it; this was what I had expected college to do. It wasn't happening in a class, like it was supposed to, but that was ok. For the next couple years I was on a roll. I knew what I was going to do.\\n\\nFor my undergraduate thesis, I reverse-engineered SHRDLU. My God did I love working on that program. It was a pleasing bit of code, but what made it even more exciting was my belief â€” hard to imagine now, but not unique in 1985 â€” that it was already climbing the lower slopes of intelligence.\", metadata={'source': '/tmp/tmpirtblwfw', 'file_name': 'what_i_worked_on.txt', '_opper_key': '4/2047/7a34d87d-0e05-4f8c-a397-2202fc0f9843', '_opper_index_file_id': 3004}), RetrievalResponse(content='I didn\\'t see a way out of this situation. I didn\\'t want to drop out of grad school, but how else was I going to get out? I remember when my friend Robert Morris got kicked out of Cornell for writing the internet worm of 1988, I was envious that he\\'d found such a spectacular way to get out of grad school.\\n\\nThen one day in April 1990 a crack appeared in the wall. I ran into professor Cheatham and he asked if I was far enough along to graduate that June. I didn\\'t have a word of my dissertation written, but in what must have been the quickest bit of thinking in my life, I decided to take a shot at writing one in the 5 weeks or so that remained before the deadline, reusing parts of On Lisp where I could, and I was able to respond, with no perceptible delay \"Yes, I think so. I\\'ll give you something to read in a few days.\"\\n\\nI picked applications of continuations as the topic. In retrospect I should have written about macros and embedded languages. There\\'s a whole world there that\\'s barely been explored. But all I wanted was to get out of grad school, and my rapidly written dissertation sufficed, just barely.\\n\\nMeanwhile I was applying to art schools. I applied to two: RISD in the US, and the Accademia di Belli Arti in Florence, which, because it was the oldest art school, I imagined would be good. RISD accepted me, and I never heard back from the Accademia, so off to Providence I went.\\n\\nI\\'d applied for the BFA program at RISD, which meant in effect that I had to go to college again. This was not as strange as it sounds, because I was only 25, and art schools are full of people of different ages. RISD counted me as a transfer sophomore and said I had to do the foundation that summer. The foundation means the classes that everyone has to take in fundamental subjects like drawing, color, and design.', metadata={'source': '/tmp/tmpirtblwfw', 'file_name': 'what_i_worked_on.txt', '_opper_key': '4/2047/7a34d87d-0e05-4f8c-a397-2202fc0f9843', '_opper_index_file_id': 3004}), RetrievalResponse(content=\"With microcomputers, everything changed. Now you could have a computer sitting right in front of you, on a desk, that could respond to your keystrokes as it was running instead of just churning through a stack of punch cards and then stopping. [1]\\n\\nThe first of my friends to get a microcomputer built it himself. It was sold as a kit by Heathkit. I remember vividly how impressed and envious I felt watching him sitting in front of it, typing programs right into the computer.\\n\\nComputers were expensive in those days and it took me years of nagging before I convinced my father to buy one, a TRS-80, in about 1980. The gold standard then was the Apple II, but a TRS-80 was good enough. This was when I really started programming. I wrote simple games, a program to predict how high my model rockets would fly, and a word processor that my father used to write at least one book. There was only room in memory for about 2 pages of text, so he'd write 2 pages at a time and then print them out, but it was a lot better than a typewriter.\\n\\nThough I liked programming, I didn't plan to study it in college. In college I was going to study philosophy, which sounded much more powerful. It seemed, to my naive high school self, to be the study of the ultimate truths, compared to which the things studied in other fields would be mere domain knowledge. What I discovered when I got to college was that the other fields took up so much of the space of ideas that there wasn't much left for these supposed ultimate truths. All that seemed left for philosophy were edge cases that people in other fields felt could safely be ignored.\\n\\nI couldn't have put this into words when I was 18. All I knew at the time was that I kept taking philosophy courses and they kept being boring. So I decided to switch to AI.\", metadata={'source': '/tmp/tmpirtblwfw', 'file_name': 'what_i_worked_on.txt', '_opper_key': '4/2047/7a34d87d-0e05-4f8c-a397-2202fc0f9843', '_opper_index_file_id': 3004}), RetrievalResponse(content=\"So I looked around to see what I could salvage from the wreckage of my plans, and there was Lisp. I knew from experience that Lisp was interesting for its own sake and not just for its association with AI, even though that was the main reason people cared about it at the time. So I decided to focus on Lisp. In fact, I decided to write a book about Lisp hacking. It's scary to think how little I knew about Lisp hacking when I started writing that book. But there's nothing like writing a book about something to help you learn it. The book, On Lisp, wasn't published till 1993, but I wrote much of it in grad school.\\n\\nComputer Science is an uneasy alliance between two halves, theory and systems. The theory people prove things, and the systems people build things. I wanted to build things. I had plenty of respect for theory â€” indeed, a sneaking suspicion that it was the more admirable of the two halves â€” but building things seemed so much more exciting.\\n\\nThe problem with systems work, though, was that it didn't last. Any program you wrote today, no matter how good, would be obsolete in a couple decades at best. People might mention your software in footnotes, but no one would actually use it. And indeed, it would seem very feeble work. Only people with a sense of the history of the field would even realize that, in its time, it had been good.\\n\\nThere were some surplus Xerox Dandelions floating around the computer lab at one point. Anyone who wanted one to play around with could have one. I was briefly tempted, but they were so slow by present standards; what was the point? No one else wanted one either, so off they went. That was what happened to systems work.\\n\\nI wanted not just to build things, but to build things that would last.\", metadata={'source': '/tmp/tmpirtblwfw', 'file_name': 'what_i_worked_on.txt', '_opper_key': '4/2047/7a34d87d-0e05-4f8c-a397-2202fc0f9843', '_opper_index_file_id': 3004}), RetrievalResponse(content='As well as HN, I wrote all of YC\\'s internal software in Arc. But while I continued to work a good deal in Arc, I gradually stopped working on Arc, partly because I didn\\'t have time to, and partly because it was a lot less attractive to mess around with the language now that we had all this infrastructure depending on it. So now my three projects were reduced to two: writing essays and working on YC.\\n\\nYC was different from other kinds of work I\\'ve done. Instead of deciding for myself what to work on, the problems came to me. Every 6 months there was a new batch of startups, and their problems, whatever they were, became our problems. It was very engaging work, because their problems were quite varied, and the good founders were very effective. If you were trying to learn the most you could about startups in the shortest possible time, you couldn\\'t have picked a better way to do it.\\n\\nThere were parts of the job I didn\\'t like. Disputes between cofounders, figuring out when people were lying to us, fighting with people who maltreated the startups, and so on. But I worked hard even at the parts I didn\\'t like. I was haunted by something Kevin Hale once said about companies: \"No one works harder than the boss.\" He meant it both descriptively and prescriptively, and it was the second part that scared me. I wanted YC to be good, so if how hard I worked set the upper bound on how hard everyone else worked, I\\'d better work very hard.\\n\\nOne day in 2010, when he was visiting California for interviews, Robert Morris did something astonishing: he offered me unsolicited advice. I can only remember him doing that once before. One day at Viaweb, when I was bent over double from a kidney stone, he suggested that it would be a good idea for him to take me to the hospital. That was what it took for Rtm to offer unsolicited advice. So I remember his exact words very clearly. \"You know,\" he said, \"you should make sure Y Combinator isn\\'t the last cool thing you do.\"', metadata={'source': '/tmp/tmpirtblwfw', 'file_name': 'what_i_worked_on.txt', '_opper_key': '4/2047/7a34d87d-0e05-4f8c-a397-2202fc0f9843', '_opper_index_file_id': 3004}), RetrievalResponse(content=\"I wanted not just to build things, but to build things that would last.\\n\\nIn this dissatisfied state I went in 1988 to visit Rich Draves at CMU, where he was in grad school. One day I went to visit the Carnegie Institute, where I'd spent a lot of time as a kid. While looking at a painting there I realized something that might seem obvious, but was a big surprise to me. There, right on the wall, was something you could make that would last. Paintings didn't become obsolete. Some of the best ones were hundreds of years old.\\n\\nAnd moreover this was something you could make a living doing. Not as easily as you could by writing software, of course, but I thought if you were really industrious and lived really cheaply, it had to be possible to make enough to survive. And as an artist you could be truly independent. You wouldn't have a boss, or even need to get research funding.\\n\\nI had always liked looking at paintings. Could I make them? I had no idea. I'd never imagined it was even possible. I knew intellectually that people made art â€” that it didn't just appear spontaneously â€” but it was as if the people who made it were a different species. They either lived long ago or were mysterious geniuses doing strange things in profiles in Life magazine. The idea of actually being able to make art, to put that verb before that noun, seemed almost miraculous.\\n\\nThat fall I started taking art classes at Harvard. Grad students could take classes in any department, and my advisor, Tom Cheatham, was very easy going. If he even knew about the strange classes I was taking, he never said anything.\\n\\nSo now I was in a PhD program in computer science, yet planning to be an artist, yet also genuinely in love with Lisp hacking and working away at On Lisp. In other words, like many a grad student, I was working energetically on multiple projects that were not my thesis.\", metadata={'source': '/tmp/tmpirtblwfw', 'file_name': 'what_i_worked_on.txt', '_opper_key': '4/2047/7a34d87d-0e05-4f8c-a397-2202fc0f9843', '_opper_index_file_id': 3004}), RetrievalResponse(content='By then there was a name for the kind of company Viaweb was, an \"application service provider,\" or ASP. This name didn\\'t last long before it was replaced by \"software as a service,\" but it was current for long enough that I named this new company after it: it was going to be called Aspra.\\n\\nI started working on the application builder, Dan worked on network infrastructure, and the two undergrads worked on the first two services (images and phone calls). But about halfway through the summer I realized I really didn\\'t want to run a company â€” especially not a big one, which it was looking like this would have to be. I\\'d only started Viaweb because I needed the money. Now that I didn\\'t need money anymore, why was I doing this? If this vision had to be realized as a company, then screw the vision. I\\'d build a subset that could be done as an open source project.\\n\\nMuch to my surprise, the time I spent working on this stuff was not wasted after all. After we started Y Combinator, I would often encounter startups working on parts of this new architecture, and it was very useful to have spent so much time thinking about it and even trying to write some of it.\\n\\nThe subset I would build as an open source project was the new Lisp, whose parentheses I now wouldn\\'t even have to hide. A lot of Lisp hackers dream of building a new Lisp, partly because one of the distinctive features of the language is that it has dialects, and partly, I think, because we have in our minds a Platonic form of Lisp that all existing dialects fall short of. I certainly did. So at the end of the summer Dan and I switched to working on this new dialect of Lisp, which I called Arc, in a house I bought in Cambridge.', metadata={'source': '/tmp/tmpirtblwfw', 'file_name': 'what_i_worked_on.txt', '_opper_key': '4/2047/7a34d87d-0e05-4f8c-a397-2202fc0f9843', '_opper_index_file_id': 3004}), RetrievalResponse(content=\"I started writing essays again, and wrote a bunch of new ones over the next few months. I even wrote a couple that weren't about startups. Then in March 2015 I started working on Lisp again.\\n\\nThe distinctive thing about Lisp is that its core is a language defined by writing an interpreter in itself. It wasn't originally intended as a programming language in the ordinary sense. It was meant to be a formal model of computation, an alternative to the Turing machine. If you want to write an interpreter for a language in itself, what's the minimum set of predefined operators you need? The Lisp that John McCarthy invented, or more accurately discovered, is an answer to that question. [19]\\n\\nMcCarthy didn't realize this Lisp could even be used to program computers till his grad student Steve Russell suggested it. Russell translated McCarthy's interpreter into IBM 704 machine language, and from that point Lisp started also to be a programming language in the ordinary sense. But its origins as a model of computation gave it a power and elegance that other languages couldn't match. It was this that attracted me in college, though I didn't understand why at the time.\\n\\nMcCarthy's 1960 Lisp did nothing more than interpret Lisp expressions. It was missing a lot of things you'd want in a programming language. So these had to be added, and when they were, they weren't defined using McCarthy's original axiomatic approach. That wouldn't have been feasible at the time. McCarthy tested his interpreter by hand-simulating the execution of programs. But it was already getting close to the limit of interpreters you could test that way â€” indeed, there was a bug in it that McCarthy had overlooked. To test a more complicated interpreter, you'd have had to run it, and computers then weren't powerful enough.\", metadata={'source': '/tmp/tmpirtblwfw', 'file_name': 'what_i_worked_on.txt', '_opper_key': '4/2047/7a34d87d-0e05-4f8c-a397-2202fc0f9843', '_opper_index_file_id': 3004}), RetrievalResponse(content=\"The following spring, lightning struck. I was invited to give a talk at a Lisp conference, so I gave one about how we'd used Lisp at Viaweb. Afterward I put a postscript file of this talk online, on paulgraham.com, which I'd created years before using Viaweb but had never used for anything. In one day it got 30,000 page views. What on earth had happened? The referring urls showed that someone had posted it on Slashdot. [10]\\n\\nWow, I thought, there's an audience. If I write something and put it on the web, anyone can read it. That may seem obvious now, but it was surprising then. In the print era there was a narrow channel to readers, guarded by fierce monsters known as editors. The only way to get an audience for anything you wrote was to get it published as a book, or in a newspaper or magazine. Now anyone could publish anything.\\n\\nThis had been possible in principle since 1993, but not many people had realized it yet. I had been intimately involved with building the infrastructure of the web for most of that time, and a writer as well, and it had taken me 8 years to realize it. Even then it took me several years to understand the implications. It meant there would be a whole new generation of essays. [11]\\n\\nIn the print era, the channel for publishing essays had been vanishingly small. Except for a few officially anointed thinkers who went to the right parties in New York, the only people allowed to publish essays were specialists writing about their specialties. There were so many essays that had never been written, because there had been no way to publish them. Now they could be, and I was going to write them. [12]\\n\\nI've worked on several different things, but to the extent there was a turning point where I figured out what to work on, it was when I started publishing essays online. From then on I knew that whatever else I did, I'd always write essays too.\", metadata={'source': '/tmp/tmpirtblwfw', 'file_name': 'what_i_worked_on.txt', '_opper_key': '4/2047/7a34d87d-0e05-4f8c-a397-2202fc0f9843', '_opper_index_file_id': 3004})]\n"
     ]
    }
   ],
   "source": [
    "res = index.query(\"What were the two main things the author worked on before college?\")\n",
    "\n",
    "print(res)"
   ]
  },
  {
   "cell_type": "markdown",
   "metadata": {},
   "source": [
    "The result from querying an index is a list of `RetrievalResult`s. We can create a function that given a list of `RetrievalResult`s and a question, will return an answer to the question."
   ]
  },
  {
   "cell_type": "code",
   "execution_count": 20,
   "metadata": {},
   "outputs": [
    {
     "name": "stdout",
     "output_type": "stream",
     "text": [
      "The two main things the author worked on before college were writing and programming.\n"
     ]
    }
   ],
   "source": [
    "from opperai.types import RetrievalResponse\n",
    "\n",
    "\n",
    "@fn(model=\"openai/gpt4-turbo\")\n",
    "def query_qna(query: str, context: List[RetrievalResponse]) -> str:\n",
    "    \"\"\"Given a query and a context, answer the question using the context.\"\"\"\n",
    "\n",
    "\n",
    "query = \"What were the two main things the author worked on before college?\"\n",
    "context = index.query(query)\n",
    "res = query_qna(query=query, context=context)\n",
    "\n",
    "print(res)\n",
    "\n",
    "\n",
    "def answer_question(query: str) -> str:\n",
    "    context = index.query(query)\n",
    "    res = query_qna(query=query, context=context)\n",
    "\n",
    "    return res"
   ]
  },
  {
   "cell_type": "markdown",
   "metadata": {},
   "source": [
    "This looks good, now we load the dataset with all the questions and answers from the qna dataset."
   ]
  },
  {
   "cell_type": "code",
   "execution_count": 21,
   "metadata": {},
   "outputs": [
    {
     "name": "stdout",
     "output_type": "stream",
     "text": [
      "Question: What were the two main things the author worked on before college?\n",
      "Answer: The two main things the author worked on before college were writing and programming.\n",
      "Opper Answer: The author worked on writing and programming before college.\n",
      "Question: What made the author want to work on AI?\n",
      "Answer: The novel 'The Moon is a Harsh Mistress' and a PBS documentary showing Terry Winograd using SHRDLU made the author want to work on AI.\n",
      "Opper Answer: The author was motivated to work on AI by two main influences: a novel by Heinlein called 'The Moon is a Harsh Mistress' featuring an intelligent computer named Mike, and a PBS documentary showing Terry Winograd using the SHRDLU program. These experiences led the author to believe that creating intelligent machines like Mike was imminent and inspired him to teach himself AI, starting with learning Lisp.\n"
     ]
    }
   ],
   "source": [
    "import requests\n",
    "\n",
    "url = \"https://huggingface.co/datasets/LangChainDatasets/question-answering-paul-graham/raw/main/paul_graham_qa.json\"\n",
    "\n",
    "response = requests.get(url)\n",
    "response.raise_for_status()\n",
    "\n",
    "json_data = response.json()\n",
    "\n",
    "for row in json_data[0:2]:\n",
    "    q = row[\"question\"]\n",
    "    a = row[\"answer\"]\n",
    "    res = answer_question(q)\n",
    "    print(f\"Question: {q}\")\n",
    "    print(f\"Answer: {a}\")\n",
    "    print(f\"Opper Answer: {res}\")"
   ]
  },
  {
   "cell_type": "markdown",
   "metadata": {},
   "source": [
    "## Benchmark correctness\n",
    "\n",
    "Now we stitch the RAG function together with the correctness function.\n",
    "\n",
    "First create a dataframe with all questions and answers from the qna dataset.\n"
   ]
  },
  {
   "cell_type": "code",
   "execution_count": 22,
   "metadata": {},
   "outputs": [
    {
     "name": "stdout",
     "output_type": "stream",
     "text": [
      "                                            question  \\\n",
      "0  What were the two main things the author worke...   \n",
      "1           What made the author want to work on AI?   \n",
      "2  What did the author realize while looking at a...   \n",
      "3   What did the author write their dissertation on?   \n",
      "4  What is the difference between painting still ...   \n",
      "5  What did the author learn while working at Int...   \n",
      "6  What did the author do to survive during the n...   \n",
      "7  What was the author's motivation for wanting t...   \n",
      "8        What is Viaweb and how did it get its name?   \n",
      "9  What was the price charged by Viaweb for a sma...   \n",
      "\n",
      "                                              answer  \\\n",
      "0  The two main things the author worked on befor...   \n",
      "1  The novel 'The Moon is a Harsh Mistress' and a...   \n",
      "2  The author realized that paintings were someth...   \n",
      "3  The author wrote their dissertation on applica...   \n",
      "4  Painting still lives is different from paintin...   \n",
      "5  The author learned that low end software tends...   \n",
      "6  The author did freelance work for the group th...   \n",
      "7  The author wanted to become rich so that he co...   \n",
      "8  Viaweb is a company that built a web app for c...   \n",
      "9  $100 a month for a small store and $300 a mont...   \n",
      "\n",
      "                                        opper_answer  \n",
      "0  The author worked on writing and programming b...  \n",
      "1  The author was inspired to work on AI primaril...  \n",
      "2  While looking at a painting at the Carnegie In...  \n",
      "3  The author wrote their dissertation on the app...  \n",
      "4  The difference between painting still lives an...  \n",
      "5  The author learned a few important lessons abo...  \n",
      "6  The author arranged to do freelance work for t...  \n",
      "7  The author's motivation for wanting to become ...  \n",
      "8  Viaweb was a company that developed software e...  \n",
      "9  Viaweb charged $100 a month for a small store ...  \n"
     ]
    }
   ],
   "source": [
    "import pandas as pd\n",
    "\n",
    "df = pd.DataFrame(json_data[:10])\n",
    "df[\"opper_answer\"] = df[\"question\"].apply(answer_question)\n",
    "\n",
    "print(df)"
   ]
  },
  {
   "cell_type": "markdown",
   "metadata": {},
   "source": [
    "We then create a new column with the correctness score for each question."
   ]
  },
  {
   "cell_type": "code",
   "execution_count": 23,
   "metadata": {},
   "outputs": [],
   "source": [
    "df[\"correctness\"] = df.apply(\n",
    "    lambda row: correctness_calculator.calculate(row[\"opper_answer\"], row[\"answer\"]),\n",
    "    axis=1,\n",
    ")"
   ]
  },
  {
   "cell_type": "code",
   "execution_count": 24,
   "metadata": {},
   "outputs": [
    {
     "name": "stdout",
     "output_type": "stream",
     "text": [
      "Question: What were the two main things the author worked on before college?\n",
      "Answer: The two main things the author worked on before college were writing and programming.\n",
      "Opper Answer: The author worked on writing and programming before college.\n",
      "Answer Correctness: 0.6666666666666666\n",
      "\n",
      "\n",
      "Question: What made the author want to work on AI?\n",
      "Answer: The novel 'The Moon is a Harsh Mistress' and a PBS documentary showing Terry Winograd using SHRDLU made the author want to work on AI.\n",
      "Opper Answer: The author was inspired to work on AI primarily by a novel by Heinlein titled 'The Moon is a Harsh Mistress', featuring an intelligent computer called Mike, and a PBS documentary showcasing Terry Winograd using SHRDLU. These works deeply influenced him and made him believe that creating intelligent machines like Mike was imminent and feasible.\n",
      "Answer Correctness: 0.5\n",
      "\n",
      "\n",
      "Question: What did the author realize while looking at a painting at the Carnegie Institute?\n",
      "Answer: The author realized that paintings were something that could be made to last and that making them was a way to be independent and make a living.\n",
      "Opper Answer: While looking at a painting at the Carnegie Institute, the author realized that paintings are something that can last, as they do not become obsolete. This realization intrigued him about the idea of being able to make something enduring like art.\n",
      "Answer Correctness: 0.4\n",
      "\n",
      "\n",
      "Question: What did the author write their dissertation on?\n",
      "Answer: The author wrote their dissertation on applications of continuations.\n",
      "Opper Answer: The author wrote their dissertation on the applications of continuations.\n",
      "Answer Correctness: 1.0\n",
      "\n",
      "\n",
      "Question: What is the difference between painting still lives and painting people?\n",
      "Answer: Painting still lives is different from painting people because the subject, as its name suggests, can't move. People can't sit for more than about 15 minutes at a time, and when they do they don't sit very still. So the traditional m.o. for painting people is to know how to paint a generic person, which you then modify to match the specific person you're painting.\n",
      "Opper Answer: The difference between painting still lives and painting people lies in the nature of the subjects and the technique required. Painting still lives allows for a more detailed and controlled approach since the subject is inanimate and does not move, enabling the artist to replicate the scene with high fidelity, down to pixel precision. This leads to artworks that can surpass photographic realism through careful emphasis on visual cues and object edges, making the interpretation more realistic than a photograph. In contrast, painting people involves coping with the movement of living subjects who cannot remain still for extended periods. This requires artists to understand how to paint a generic person and then modify that image to resemble the specific person being portrayed, often needing a balance of speed and detail amidst the subject's movements.\n",
      "Answer Correctness: 0.5\n",
      "\n",
      "\n"
     ]
    }
   ],
   "source": [
    "for row in df[:5].itertuples():\n",
    "    print(f\"Question: {row.question}\")\n",
    "    print(f\"Answer: {row.answer}\")\n",
    "    print(f\"Opper Answer: {row.opper_answer}\")\n",
    "    print(f\"Answer Correctness: {row.correctness}\")\n",
    "    print(\"\\n\")"
   ]
  },
  {
   "cell_type": "markdown",
   "metadata": {},
   "source": [
    "Taking the mean of the correctness column gives us the average correctness score."
   ]
  },
  {
   "cell_type": "code",
   "execution_count": 25,
   "metadata": {},
   "outputs": [
    {
     "name": "stdout",
     "output_type": "stream",
     "text": [
      "0.742051282051282\n"
     ]
    }
   ],
   "source": [
    "print(df[\"correctness\"].mean())"
   ]
  },
  {
   "cell_type": "markdown",
   "metadata": {},
   "source": [
    "## Conclusion\n",
    "\n",
    "What we have implemented is the basis of a more comprehensive evaluation of RAG. This can be used to compare the correctness of different implementations, prompts, models, etc. We can also more metrics like faithfulness and relevance.\n",
    "\n",
    "Correctness prompt heavily inspired by [ragas](https://github.com/explodinggradients/ragas) correctness prompt."
   ]
  }
 ],
 "metadata": {
  "kernelspec": {
   "display_name": "Python 3 (ipykernel)",
   "language": "python",
   "name": "python3"
  },
  "language_info": {
   "codemirror_mode": {
    "name": "ipython",
    "version": 3
   },
   "file_extension": ".py",
   "mimetype": "text/x-python",
   "name": "python",
   "nbconvert_exporter": "python",
   "pygments_lexer": "ipython3",
   "version": "3.11.8"
  }
 },
 "nbformat": 4,
 "nbformat_minor": 4
}
