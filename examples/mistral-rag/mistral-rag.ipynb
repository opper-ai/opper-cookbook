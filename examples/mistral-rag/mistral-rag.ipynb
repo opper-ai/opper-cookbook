{
 "cells": [
  {
   "cell_type": "markdown",
   "metadata": {},
   "source": [
    "# Answer questions from Reddit SEC filing with Opper and Mistral"
   ]
  },
  {
   "cell_type": "code",
   "execution_count": 3,
   "metadata": {},
   "outputs": [
    {
     "name": "stdout",
     "output_type": "stream",
     "text": [
      "Requirement already satisfied: opperai in ./.venv/lib/python3.11/site-packages (0.5.1)\n",
      "Collecting opperai\n",
      "  Downloading opperai-0.5.2-py2.py3-none-any.whl.metadata (3.7 kB)\n",
      "Requirement already satisfied: httpx in ./.venv/lib/python3.11/site-packages (from opperai) (0.27.0)\n",
      "Requirement already satisfied: httpx-sse in ./.venv/lib/python3.11/site-packages (from opperai) (0.4.0)\n",
      "Requirement already satisfied: pydantic in ./.venv/lib/python3.11/site-packages (from opperai) (2.7.1)\n",
      "Requirement already satisfied: anyio in ./.venv/lib/python3.11/site-packages (from httpx->opperai) (4.3.0)\n",
      "Requirement already satisfied: certifi in ./.venv/lib/python3.11/site-packages (from httpx->opperai) (2024.2.2)\n",
      "Requirement already satisfied: httpcore==1.* in ./.venv/lib/python3.11/site-packages (from httpx->opperai) (1.0.5)\n",
      "Requirement already satisfied: idna in ./.venv/lib/python3.11/site-packages (from httpx->opperai) (3.7)\n",
      "Requirement already satisfied: sniffio in ./.venv/lib/python3.11/site-packages (from httpx->opperai) (1.3.1)\n",
      "Requirement already satisfied: h11<0.15,>=0.13 in ./.venv/lib/python3.11/site-packages (from httpcore==1.*->httpx->opperai) (0.14.0)\n",
      "Requirement already satisfied: annotated-types>=0.4.0 in ./.venv/lib/python3.11/site-packages (from pydantic->opperai) (0.6.0)\n",
      "Requirement already satisfied: pydantic-core==2.18.2 in ./.venv/lib/python3.11/site-packages (from pydantic->opperai) (2.18.2)\n",
      "Requirement already satisfied: typing-extensions>=4.6.1 in ./.venv/lib/python3.11/site-packages (from pydantic->opperai) (4.11.0)\n",
      "Downloading opperai-0.5.2-py2.py3-none-any.whl (25 kB)\n",
      "Installing collected packages: opperai\n",
      "  Attempting uninstall: opperai\n",
      "    Found existing installation: opperai 0.5.1\n",
      "    Uninstalling opperai-0.5.1:\n",
      "      Successfully uninstalled opperai-0.5.1\n",
      "Successfully installed opperai-0.5.2\n",
      "Requirement already satisfied: pydantic in ./.venv/lib/python3.11/site-packages (2.7.1)\n",
      "Requirement already satisfied: annotated-types>=0.4.0 in ./.venv/lib/python3.11/site-packages (from pydantic) (0.6.0)\n",
      "Requirement already satisfied: pydantic-core==2.18.2 in ./.venv/lib/python3.11/site-packages (from pydantic) (2.18.2)\n",
      "Requirement already satisfied: typing-extensions>=4.6.1 in ./.venv/lib/python3.11/site-packages (from pydantic) (4.11.0)\n"
     ]
    }
   ],
   "source": [
    "# Install the datasets library from huggingface\n",
    "!pip install opperai -U\n",
    "!pip install pydantic\n"
   ]
  },
  {
   "cell_type": "markdown",
   "metadata": {},
   "source": [
    "## Imports"
   ]
  },
  {
   "cell_type": "code",
   "execution_count": 4,
   "metadata": {},
   "outputs": [
    {
     "name": "stdout",
     "output_type": "stream",
     "text": [
      "None\n"
     ]
    }
   ],
   "source": [
    "import os\n",
    "from opperai import fn, Client, AsyncClient\n",
    "from opperai.types.indexes import RetrievalResponse\n",
    "from pydantic import BaseModel, Field\n",
    "from typing import List, Literal\n",
    "\n",
    "os.environ[\"OPPER_API_KEY\"] = \"op-BN3K7QS92CIJI16MANUE\"\n",
    "\n",
    "opper = Client()\n"
   ]
  },
  {
   "cell_type": "markdown",
   "metadata": {},
   "source": [
    "## Index PDF"
   ]
  },
  {
   "cell_type": "code",
   "execution_count": 73,
   "metadata": {},
   "outputs": [
    {
     "name": "stdout",
     "output_type": "stream",
     "text": [
      "id=1717 name='mistral-rag2' created_at=datetime.datetime(2024, 5, 7, 6, 42, 14, 348702, tzinfo=TzInfo(UTC))\n"
     ]
    },
    {
     "data": {
      "text/plain": [
       "{'uuid': 'b32a719b-bccb-4503-9cb8-71f6462bca7d',\n",
       " 'key': '34/1717/b32a719b-bccb-4503-9cb8-71f6462bca7d',\n",
       " 'original_filename': 'reddit-sec.pdf',\n",
       " 'document_id': 14950}"
      ]
     },
     "execution_count": 73,
     "metadata": {},
     "output_type": "execute_result"
    }
   ],
   "source": [
    "\n",
    "# We get or create our index\n",
    "index = opper.indexes.get(name=\"mistral-rag2\")\n",
    "if not index:\n",
    "    index = opper.indexes.create(name=\"mistral-rag2\")\n",
    "\n",
    "    print(index)\n",
    "\n",
    "    # we upload our pdf to the index\n",
    "    opper.indexes.upload_file(\n",
    "        id=index.id, \n",
    "        file_path=\"./reddit-sec.pdf\",\n",
    "        )\n"
   ]
  },
  {
   "cell_type": "markdown",
   "metadata": {},
   "source": [
    "## Retrieve relevant content for answering question"
   ]
  },
  {
   "cell_type": "code",
   "execution_count": 105,
   "metadata": {},
   "outputs": [
    {
     "ename": "AttributeError",
     "evalue": "'int' object has no attribute 'id'",
     "output_type": "error",
     "traceback": [
      "\u001b[0;31m---------------------------------------------------------------------------\u001b[0m",
      "\u001b[0;31mAttributeError\u001b[0m                            Traceback (most recent call last)",
      "Cell \u001b[0;32mIn[105], line 5\u001b[0m\n\u001b[1;32m      1\u001b[0m question \u001b[38;5;241m=\u001b[39m \u001b[38;5;124m\"\u001b[39m\u001b[38;5;124mWhat are the key financial and growth numbers for Reddit?\u001b[39m\u001b[38;5;124m\"\u001b[39m\n\u001b[1;32m      3\u001b[0m \u001b[38;5;66;03m# We retrieve the content from the index\u001b[39;00m\n\u001b[1;32m      4\u001b[0m results \u001b[38;5;241m=\u001b[39m opper\u001b[38;5;241m.\u001b[39mindexes\u001b[38;5;241m.\u001b[39mretrieve(\n\u001b[0;32m----> 5\u001b[0m     \u001b[38;5;28mid\u001b[39m\u001b[38;5;241m=\u001b[39m\u001b[43mindex\u001b[49m\u001b[38;5;241;43m.\u001b[39;49m\u001b[43mid\u001b[49m,\n\u001b[1;32m      6\u001b[0m     query\u001b[38;5;241m=\u001b[39mquestion,\n\u001b[1;32m      7\u001b[0m     k\u001b[38;5;241m=\u001b[39m\u001b[38;5;241m3\u001b[39m\n\u001b[1;32m      8\u001b[0m )\n\u001b[1;32m     10\u001b[0m \u001b[38;5;28mprint\u001b[39m(results)\n",
      "\u001b[0;31mAttributeError\u001b[0m: 'int' object has no attribute 'id'"
     ]
    }
   ],
   "source": [
    "question = \"What are the key financial and growth numbers for Reddit?\"\n",
    "\n",
    "# We retrieve the content from the index\n",
    "results = opper.indexes.retrieve(\n",
    "    id=index.id,\n",
    "    query=question,\n",
    "    k=3\n",
    ")\n",
    "\n",
    "print(results)\n"
   ]
  },
  {
   "cell_type": "markdown",
   "metadata": {},
   "source": [
    "## Create response with citations"
   ]
  },
  {
   "cell_type": "code",
   "execution_count": null,
   "metadata": {},
   "outputs": [
    {
     "name": "stdout",
     "output_type": "stream",
     "text": [
      "answer=\"Reddit's key financial and growth numbers include a Daily Active Unique (DAUq) growth of 27% compared to the prior year period and 11% compared to the prior quarter period. The Weekly Active Unique (WAUq) also showed significant growth, with a 29% increase compared to the prior year period, and 12% compared to the prior quarter period [1]. In terms of revenue, Reddit recorded revenue of $804.0 million for the year ended December 31, 2023, a 21% increase compared to the prior year period [2]. The digital advertising market, excluding China and Russia, is expected to grow at a CAGR of 20% to $1.0 trillion in 2027, and the user economy on Reddit is estimated to grow at a CAGR of 12% to $2.1 trillion in 2027 [3]. Additionally, there was approximately 35% growth in the number of videos watched for 10 seconds or more and an approximately 16% increase in daily active video viewers compared to December 2022 [4]. Reddit also observed an increase of over 30% in 'Good Visits,' defined as a user consuming a post for more than 30 seconds, and captured increased international momentum, with an average of 36.7 million international DAUq for the three months ended December 31, 2023, representing 21% growth year over year [5].\" citations=[Citation(source='reddit-sec.pdf', page_number=106, citation='Quarterly Average DAUq (in millions) Total DAUq YoY Growth: 5% 5% 7% 7% 5% 7% 15% 27% ... Quarterly Average WAUq (in millions) WAUq YoY Growth: 1% 1% 3% 3% 2% 5% 15% 29%'), Citation(source='reddit-sec.pdf', page_number=106, citation='In the year ended December 31, 2023, we recorded revenue of $804.0 million, as compared to revenue of $666.7 million for the year ended December 31, 2022, representing an increase of 21% compared to the prior year period.'), Citation(source='reddit-sec.pdf', page_number=19, citation='Using estimates from IDC‘s Consumer Market Model and focusing on six core geographies (United States, Canada, Australia, Western Europe, India, and Latin America), we believe this market size is $1.3 trillion today, and it is expected to grow at a CAGR of 12% to $2.1 trillion in 2027.'), Citation(source='reddit-sec.pdf', page_number=14, citation='In December 2023, we experienced approximately 35% growth in the number of videos watched for 10 seconds or more and an approximately 16% increase in daily active video viewers compared to December 2022.'), Citation(source='reddit-sec.pdf', page_number=14, citation='We have captured increased international momentum, with an average of 36.7 million international DAUq for the three months ended December 31, 2023, representing 21% growth year over year.')]\n"
     ]
    }
   ],
   "source": [
    "class Citation(BaseModel):\n",
    "    source: str = Field(..., description=\"The source, such as file name, used to answer the question\")\n",
    "    page_number: int = Field(..., description=\"The page number of the source\")\n",
    "    citation: str = Field(..., description=\"A relevant citation from the source, preferably short\")\n",
    "\n",
    "class Response(BaseModel):\n",
    "    answer: str = Field(..., description=\"The answer to the question\")\n",
    "    citations: List[Citation] = Field(..., description=\"Citations used to answer the question\")\n",
    "\n",
    "@fn(path=\"test/mistral-rag/response\", model=\"azure/mistral-large-eu\")\n",
    "def answer_question(question: str, sources: List[RetrievalResponse]) -> Response:\n",
    "    \"\"\" Produce an answer to the question using the sources. Clearly mark each fact or statement with inline citations in the style of [1], [2]. \n",
    "    \"\"\"\n",
    "\n",
    "response = answer_question(question, sources)\n",
    "print(response)\n"
   ]
  },
  {
   "cell_type": "markdown",
   "metadata": {},
   "source": [
    "## Print it! "
   ]
  },
  {
   "cell_type": "code",
   "execution_count": null,
   "metadata": {},
   "outputs": [
    {
     "name": "stdout",
     "output_type": "stream",
     "text": [
      "Reddit's key financial and growth numbers include a Daily Active Unique (DAUq) growth of 27% compared to the prior year period and 11% compared to the prior quarter period. The Weekly Active Unique (WAUq) also showed significant growth, with a 29% increase compared to the prior year period, and 12% compared to the prior quarter period [1]. In terms of revenue, Reddit recorded revenue of $804.0 million for the year ended December 31, 2023, a 21% increase compared to the prior year period [2]. The digital advertising market, excluding China and Russia, is expected to grow at a CAGR of 20% to $1.0 trillion in 2027, and the user economy on Reddit is estimated to grow at a CAGR of 12% to $2.1 trillion in 2027 [3]. Additionally, there was approximately 35% growth in the number of videos watched for 10 seconds or more and an approximately 16% increase in daily active video viewers compared to December 2022 [4]. Reddit also observed an increase of over 30% in 'Good Visits,' defined as a user consuming a post for more than 30 seconds, and captured increased international momentum, with an average of 36.7 million international DAUq for the three months ended December 31, 2023, representing 21% growth year over year [5].\n",
      "\n",
      "[1] reddit-sec.pdf page: 106 segment: \"Quarterly Average DAUq (in millions) Total DAUq Yo...\"\n",
      "[2] reddit-sec.pdf page: 106 segment: \"In the year ended December 31, 2023, we recorded r...\"\n",
      "[3] reddit-sec.pdf page: 19 segment: \"Using estimates from IDC‘s Consumer Market Model a...\"\n",
      "[4] reddit-sec.pdf page: 14 segment: \"In December 2023, we experienced approximately 35%...\"\n",
      "[5] reddit-sec.pdf page: 14 segment: \"We have captured increased international momentum,...\"\n"
     ]
    }
   ],
   "source": [
    "print(response.answer)\n",
    "print()\n",
    "index = 1\n",
    "for citation in response.citations:\n",
    "    print(f\"[{index}]\", citation.source, \"page:\", citation.page_number, \"segment:\", f'\"{citation.citation[:50]}...\"')\n",
    "    index += 1\n",
    "    \n"
   ]
  }
 ],
 "metadata": {
  "kernelspec": {
   "display_name": ".venv",
   "language": "python",
   "name": "python3"
  },
  "language_info": {
   "codemirror_mode": {
    "name": "ipython",
    "version": 3
   },
   "file_extension": ".py",
   "mimetype": "text/x-python",
   "name": "python",
   "nbconvert_exporter": "python",
   "pygments_lexer": "ipython3",
   "version": "3.11.5"
  }
 },
 "nbformat": 4,
 "nbformat_minor": 2
}
