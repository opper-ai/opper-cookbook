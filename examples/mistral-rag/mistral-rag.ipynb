{
 "cells": [
  {
   "cell_type": "markdown",
   "metadata": {},
   "source": [
    "# Answer questions with citations from Reddit SEC filing with Opper and Mistral\n",
    "\n",
    "This cookbook is an appendix to: https://opper.ai/blog/simple-rag-with-citations"
   ]
  },
  {
   "cell_type": "code",
   "execution_count": null,
   "metadata": {},
   "outputs": [],
   "source": [
    "# Install the datasets library from huggingface\n",
    "!pip install opperai -U\n",
    "!pip install pydantic\n"
   ]
  },
  {
   "cell_type": "markdown",
   "metadata": {},
   "source": [
    "## Imports"
   ]
  },
  {
   "cell_type": "code",
   "execution_count": null,
   "metadata": {},
   "outputs": [],
   "source": [
    "import os\n",
    "from opperai import Opper, fn, Client, AsyncClient\n",
    "from opperai.types.indexes import RetrievalResponse\n",
    "from pydantic import BaseModel, Field\n",
    "from typing import List, Literal\n",
    "\n",
    "os.environ[\"OPPER_API_KEY\"] = \"op-...\"\n",
    "\n",
    "opper = Opper()\n"
   ]
  },
  {
   "cell_type": "markdown",
   "metadata": {},
   "source": [
    "## Index PDF"
   ]
  },
  {
   "cell_type": "code",
   "execution_count": null,
   "metadata": {},
   "outputs": [],
   "source": [
    "\n",
    "# We get or create our index\n",
    "index = opper.indexes.get(name=\"mistral-rag4\")\n",
    "if not index:\n",
    "    index = opper.indexes.create(name=\"mistral-rag4\")\n",
    "\n",
    "    # we upload our pdf to the index\n",
    "    index.upload_file(\n",
    "        file_path=\"./reddit-sec.pdf\",\n",
    "        )\n",
    "print(index)\n"
   ]
  },
  {
   "cell_type": "markdown",
   "metadata": {},
   "source": [
    "## Retrieve relevant content for answering question"
   ]
  },
  {
   "cell_type": "code",
   "execution_count": null,
   "metadata": {},
   "outputs": [],
   "source": [
    "question = \"What are the key financial and growth numbers for Reddit?\"\n",
    "#question = \"What is Reddits strategy around AI and future value from AI?\"\n",
    "#question = \"Who are the biggest shareholders of Reddit?\" \n",
    "#question = \"Is the company making money and how much?\"\n",
    "#question = \"Who are the main competitors of Reddit?\"\n",
    "\n",
    "\n",
    "# We retrieve the content from the index\n",
    "results = index.query(\n",
    "    query=question,\n",
    "    k=3\n",
    ")\n",
    "\n",
    "print(results)\n"
   ]
  },
  {
   "cell_type": "code",
   "execution_count": null,
   "metadata": {},
   "outputs": [],
   "source": [
    "# Extract file_name and page number from results\n",
    "class Source(BaseModel):\n",
    "    file_name: str\n",
    "    content: str\n",
    "    page_number: int\n",
    "\n",
    "class Sources(BaseModel):\n",
    "    sources: List[Source]\n",
    "\n",
    "processed_results = [\n",
    "    Source(\n",
    "        content=result.content,\n",
    "        file_name=result.metadata.get(\"file_name\"),\n",
    "        page_number=result.metadata.get(\"page\")\n",
    "    ) for result in results\n",
    "]\n",
    "\n",
    "print(processed_results)\n"
   ]
  },
  {
   "cell_type": "markdown",
   "metadata": {},
   "source": []
  },
  {
   "cell_type": "markdown",
   "metadata": {},
   "source": [
    "## Create response with citations"
   ]
  },
  {
   "cell_type": "code",
   "execution_count": null,
   "metadata": {},
   "outputs": [],
   "source": [
    "class Citation(BaseModel):\n",
    "    file_name: str \n",
    "    page_number: int \n",
    "    citation: str \n",
    "\n",
    "class Response(BaseModel):\n",
    "    answer: str \n",
    "    citations: List[Citation]\n",
    "\n",
    "@fn(path=\"test/mistral-rag/citations\", model=\"azure/mistral-large-eu\")\n",
    "def extract_citations(question: str, sources: List[Source]) -> List[Citation]:\n",
    "    \"\"\" Build a list of citations for the question from the sources\"\"\"\n",
    "\n",
    "@fn(path=\"test/mistral-rag/response\", model=\"azure/mistral-large-eu\")\n",
    "def produce_response(question: str, citations: List[Citation]) -> Response:\n",
    "    \"\"\" Produce an answer to the question using the possible citations. Refer to any statements or facts from citations inline in the answer with [1], [2] etc. \"\"\"\n",
    "\n",
    "citations = extract_citations(question, processed_results)\n",
    "\n",
    "response = produce_response(question, citations)\n",
    "\n",
    "print(response)\n"
   ]
  },
  {
   "cell_type": "markdown",
   "metadata": {},
   "source": [
    "## Print it! "
   ]
  },
  {
   "cell_type": "code",
   "execution_count": null,
   "metadata": {},
   "outputs": [],
   "source": [
    "print(response.answer)\n",
    "print()\n",
    "index = 1\n",
    "for citation in response.citations:\n",
    "    print(f\"[{index}]\", f'\"{citation.citation}\"')\n",
    "    index += 1\n",
    "    \n"
   ]
  }
 ],
 "metadata": {
  "kernelspec": {
   "display_name": ".venv",
   "language": "python",
   "name": "python3"
  },
  "language_info": {
   "codemirror_mode": {
    "name": "ipython",
    "version": 3
   },
   "file_extension": ".py",
   "mimetype": "text/x-python",
   "name": "python",
   "nbconvert_exporter": "python",
   "pygments_lexer": "ipython3",
   "version": "3.11.5"
  }
 },
 "nbformat": 4,
 "nbformat_minor": 2
}
