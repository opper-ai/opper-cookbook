{
 "cells": [
  {
   "cell_type": "markdown",
   "metadata": {},
   "source": [
    "# Getting the best out of LLMs\n",
    "\n",
    "This notebook complements our [blog series](https://opper.ai/blog/getting-the-most-out-of-llms-1) on getting the best out of LLMs. It demoes Opper functions combined with few shot retrieval.\n",
    "\n",
    "\n"
   ]
  },
  {
   "cell_type": "code",
   "execution_count": 2,
   "metadata": {},
   "outputs": [
    {
     "name": "stdout",
     "output_type": "stream",
     "text": [
      "Requirement already satisfied: datasets in /Users/alex/code/opper-cookbook/venv/lib/python3.12/site-packages (2.18.0)\n",
      "Requirement already satisfied: filelock in /Users/alex/code/opper-cookbook/venv/lib/python3.12/site-packages (from datasets) (3.13.4)\n",
      "Requirement already satisfied: numpy>=1.17 in /Users/alex/code/opper-cookbook/venv/lib/python3.12/site-packages (from datasets) (1.26.4)\n",
      "Requirement already satisfied: pyarrow>=12.0.0 in /Users/alex/code/opper-cookbook/venv/lib/python3.12/site-packages (from datasets) (15.0.2)\n",
      "Requirement already satisfied: pyarrow-hotfix in /Users/alex/code/opper-cookbook/venv/lib/python3.12/site-packages (from datasets) (0.6)\n",
      "Requirement already satisfied: dill<0.3.9,>=0.3.0 in /Users/alex/code/opper-cookbook/venv/lib/python3.12/site-packages (from datasets) (0.3.8)\n",
      "Requirement already satisfied: pandas in /Users/alex/code/opper-cookbook/venv/lib/python3.12/site-packages (from datasets) (2.2.2)\n",
      "Requirement already satisfied: requests>=2.19.0 in /Users/alex/code/opper-cookbook/venv/lib/python3.12/site-packages (from datasets) (2.31.0)\n",
      "Requirement already satisfied: tqdm>=4.62.1 in /Users/alex/code/opper-cookbook/venv/lib/python3.12/site-packages (from datasets) (4.66.2)\n",
      "Requirement already satisfied: xxhash in /Users/alex/code/opper-cookbook/venv/lib/python3.12/site-packages (from datasets) (3.4.1)\n",
      "Requirement already satisfied: multiprocess in /Users/alex/code/opper-cookbook/venv/lib/python3.12/site-packages (from datasets) (0.70.16)\n",
      "Requirement already satisfied: fsspec<=2024.2.0,>=2023.1.0 in /Users/alex/code/opper-cookbook/venv/lib/python3.12/site-packages (from fsspec[http]<=2024.2.0,>=2023.1.0->datasets) (2024.2.0)\n",
      "Requirement already satisfied: aiohttp in /Users/alex/code/opper-cookbook/venv/lib/python3.12/site-packages (from datasets) (3.9.3)\n",
      "Requirement already satisfied: huggingface-hub>=0.19.4 in /Users/alex/code/opper-cookbook/venv/lib/python3.12/site-packages (from datasets) (0.22.2)\n",
      "Requirement already satisfied: packaging in /Users/alex/code/opper-cookbook/venv/lib/python3.12/site-packages (from datasets) (24.0)\n",
      "Requirement already satisfied: pyyaml>=5.1 in /Users/alex/code/opper-cookbook/venv/lib/python3.12/site-packages (from datasets) (6.0.1)\n",
      "Requirement already satisfied: aiosignal>=1.1.2 in /Users/alex/code/opper-cookbook/venv/lib/python3.12/site-packages (from aiohttp->datasets) (1.3.1)\n",
      "Requirement already satisfied: attrs>=17.3.0 in /Users/alex/code/opper-cookbook/venv/lib/python3.12/site-packages (from aiohttp->datasets) (23.2.0)\n",
      "Requirement already satisfied: frozenlist>=1.1.1 in /Users/alex/code/opper-cookbook/venv/lib/python3.12/site-packages (from aiohttp->datasets) (1.4.1)\n",
      "Requirement already satisfied: multidict<7.0,>=4.5 in /Users/alex/code/opper-cookbook/venv/lib/python3.12/site-packages (from aiohttp->datasets) (6.0.5)\n",
      "Requirement already satisfied: yarl<2.0,>=1.0 in /Users/alex/code/opper-cookbook/venv/lib/python3.12/site-packages (from aiohttp->datasets) (1.9.4)\n",
      "Requirement already satisfied: typing-extensions>=3.7.4.3 in /Users/alex/code/opper-cookbook/venv/lib/python3.12/site-packages (from huggingface-hub>=0.19.4->datasets) (4.11.0)\n",
      "Requirement already satisfied: charset-normalizer<4,>=2 in /Users/alex/code/opper-cookbook/venv/lib/python3.12/site-packages (from requests>=2.19.0->datasets) (3.3.2)\n",
      "Requirement already satisfied: idna<4,>=2.5 in /Users/alex/code/opper-cookbook/venv/lib/python3.12/site-packages (from requests>=2.19.0->datasets) (3.7)\n",
      "Requirement already satisfied: urllib3<3,>=1.21.1 in /Users/alex/code/opper-cookbook/venv/lib/python3.12/site-packages (from requests>=2.19.0->datasets) (2.2.1)\n",
      "Requirement already satisfied: certifi>=2017.4.17 in /Users/alex/code/opper-cookbook/venv/lib/python3.12/site-packages (from requests>=2.19.0->datasets) (2024.2.2)\n",
      "Requirement already satisfied: python-dateutil>=2.8.2 in /Users/alex/code/opper-cookbook/venv/lib/python3.12/site-packages (from pandas->datasets) (2.9.0.post0)\n",
      "Requirement already satisfied: pytz>=2020.1 in /Users/alex/code/opper-cookbook/venv/lib/python3.12/site-packages (from pandas->datasets) (2024.1)\n",
      "Requirement already satisfied: tzdata>=2022.7 in /Users/alex/code/opper-cookbook/venv/lib/python3.12/site-packages (from pandas->datasets) (2024.1)\n",
      "Requirement already satisfied: six>=1.5 in /Users/alex/code/opper-cookbook/venv/lib/python3.12/site-packages (from python-dateutil>=2.8.2->pandas->datasets) (1.16.0)\n",
      "Requirement already satisfied: opperai in /Users/alex/code/opper-cookbook/venv/lib/python3.12/site-packages (0.7.0)\n",
      "Requirement already satisfied: httpx in /Users/alex/code/opper-cookbook/venv/lib/python3.12/site-packages (from opperai) (0.27.0)\n",
      "Requirement already satisfied: httpx-sse in /Users/alex/code/opper-cookbook/venv/lib/python3.12/site-packages (from opperai) (0.4.0)\n",
      "Requirement already satisfied: pydantic in /Users/alex/code/opper-cookbook/venv/lib/python3.12/site-packages (from opperai) (2.7.0)\n",
      "Requirement already satisfied: anyio in /Users/alex/code/opper-cookbook/venv/lib/python3.12/site-packages (from httpx->opperai) (4.3.0)\n",
      "Requirement already satisfied: certifi in /Users/alex/code/opper-cookbook/venv/lib/python3.12/site-packages (from httpx->opperai) (2024.2.2)\n",
      "Requirement already satisfied: httpcore==1.* in /Users/alex/code/opper-cookbook/venv/lib/python3.12/site-packages (from httpx->opperai) (1.0.5)\n",
      "Requirement already satisfied: idna in /Users/alex/code/opper-cookbook/venv/lib/python3.12/site-packages (from httpx->opperai) (3.7)\n",
      "Requirement already satisfied: sniffio in /Users/alex/code/opper-cookbook/venv/lib/python3.12/site-packages (from httpx->opperai) (1.3.1)\n",
      "Requirement already satisfied: h11<0.15,>=0.13 in /Users/alex/code/opper-cookbook/venv/lib/python3.12/site-packages (from httpcore==1.*->httpx->opperai) (0.14.0)\n",
      "Requirement already satisfied: annotated-types>=0.4.0 in /Users/alex/code/opper-cookbook/venv/lib/python3.12/site-packages (from pydantic->opperai) (0.6.0)\n",
      "Requirement already satisfied: pydantic-core==2.18.1 in /Users/alex/code/opper-cookbook/venv/lib/python3.12/site-packages (from pydantic->opperai) (2.18.1)\n",
      "Requirement already satisfied: typing-extensions>=4.6.1 in /Users/alex/code/opper-cookbook/venv/lib/python3.12/site-packages (from pydantic->opperai) (4.11.0)\n",
      "Requirement already satisfied: pydantic in /Users/alex/code/opper-cookbook/venv/lib/python3.12/site-packages (2.7.0)\n",
      "Requirement already satisfied: annotated-types>=0.4.0 in /Users/alex/code/opper-cookbook/venv/lib/python3.12/site-packages (from pydantic) (0.6.0)\n",
      "Requirement already satisfied: pydantic-core==2.18.1 in /Users/alex/code/opper-cookbook/venv/lib/python3.12/site-packages (from pydantic) (2.18.1)\n",
      "Requirement already satisfied: typing-extensions>=4.6.1 in /Users/alex/code/opper-cookbook/venv/lib/python3.12/site-packages (from pydantic) (4.11.0)\n",
      "Requirement already satisfied: tqdm in /Users/alex/code/opper-cookbook/venv/lib/python3.12/site-packages (4.66.2)\n"
     ]
    }
   ],
   "source": [
    "# Install the datasets library from huggingface\n",
    "!pip install datasets \n",
    "!pip install opperai\n",
    "!pip install pydantic\n",
    "!pip install tqdm\n",
    "\n",
    "import os\n",
    "from datasets import load_dataset\n",
    "\n",
    "os.environ[\"OPPER_API_KEY\"] = \"your-api-key\"\n",
    "os.environ[\"OPPER_PROJECT\"] = \"gsm8k\"\n",
    "\n",
    "# Get the dataset from huggingface https://huggingface.co/datasets/gsm8k\n",
    "dataset = load_dataset(\"gsm8k\", \"main\")"
   ]
  },
  {
   "cell_type": "markdown",
   "metadata": {},
   "source": [
    "Now, let's parse this dataset so we can separate the rationale from the values."
   ]
  },
  {
   "cell_type": "code",
   "execution_count": 3,
   "metadata": {},
   "outputs": [],
   "source": [
    "def build_datasets(count: int = 100, split: float = 0.7):\n",
    "    train_count = int(count * split)\n",
    "    test_count = count - train_count\n",
    "\n",
    "    train_dataset = [dataset[\"train\"][i] for i in range(train_count)]\n",
    "    test_dataset = [dataset[\"train\"][i] for i in range(-test_count, 0)]\n",
    "\n",
    "    def parse_data(data):\n",
    "        parsed_data = []\n",
    "        for item in data:\n",
    "            question, full_answer = item[\"question\"], item[\"answer\"]\n",
    "            thoughts, _, answer = full_answer.partition(\"\\n#### \")\n",
    "            parsed_data.append({\"question\": question, \"thoughts\": thoughts, \"answer\": answer or None})\n",
    "        return parsed_data\n",
    "\n",
    "    train_data = parse_data(train_dataset)\n",
    "    test_data = parse_data(test_dataset)\n",
    "\n",
    "    return train_data, test_data\n"
   ]
  },
  {
   "cell_type": "code",
   "execution_count": 4,
   "metadata": {},
   "outputs": [],
   "source": [
    "# We take 1000 samples and split them into 70% training and 30% testing\n",
    "training, testing = build_datasets(1000, 0.7)"
   ]
  },
  {
   "cell_type": "code",
   "execution_count": 5,
   "metadata": {},
   "outputs": [
    {
     "data": {
      "text/plain": [
       "{'question': 'Natalia sold clips to 48 of her friends in April, and then she sold half as many clips in May. How many clips did Natalia sell altogether in April and May?',\n",
       " 'thoughts': 'Natalia sold 48/2 = <<48/2=24>>24 clips in May.\\nNatalia sold 48+24 = <<48+24=72>>72 clips altogether in April and May.',\n",
       " 'answer': '72'}"
      ]
     },
     "execution_count": 5,
     "metadata": {},
     "output_type": "execute_result"
    }
   ],
   "source": [
    "training[0]"
   ]
  },
  {
   "cell_type": "code",
   "execution_count": 6,
   "metadata": {},
   "outputs": [],
   "source": [
    "from opperai import fn\n",
    "\n",
    "@fn(model=\"openai/gpt3.5-turbo\")\n",
    "async def predict(question: str) -> int:\n",
    "    \"\"\"Solves math word problems\"\"\""
   ]
  },
  {
   "cell_type": "markdown",
   "metadata": {},
   "source": [
    "That's it! Now let's run our dataset through this function and see how well it performs. First let's define our evaluation function."
   ]
  },
  {
   "cell_type": "code",
   "execution_count": 7,
   "metadata": {},
   "outputs": [],
   "source": [
    "\n",
    "import asyncio\n",
    "from tqdm.asyncio import tqdm_asyncio\n",
    "\n",
    "\n",
    "async def evaluate(test_set, function, max_concurrent_requests: int = 10):\n",
    "    semaphore = asyncio.Semaphore(max_concurrent_requests)\n",
    "\n",
    "    async def evaluate_item(item):\n",
    "        async with semaphore:\n",
    "            try:\n",
    "                answer_int = int(item[\"answer\"].replace(\",\", \"\"))\n",
    "                result = await function(item[\"question\"])\n",
    "                value = result if isinstance(result, int) else result.value\n",
    "                return {\n",
    "                    \"expected\": item[\"answer\"],\n",
    "                    \"got\": value,\n",
    "                    \"question\": item[\"question\"],\n",
    "                    \"pass\": answer_int == value,\n",
    "                    \"raw\": result,\n",
    "                }\n",
    "            except Exception as e:\n",
    "                print(f\"Exception: {e}\")\n",
    "                return {\n",
    "                    \"expected\": item[\"answer\"],\n",
    "                    \"got\": None,\n",
    "                    \"question\": item[\"question\"],\n",
    "                    \"pass\": False,\n",
    "                    \"raw\": str(e),\n",
    "                }\n",
    "\n",
    "    tasks = [evaluate_item(item) for item in test_set]\n",
    "    results = []\n",
    "    for f in tqdm_asyncio.as_completed(tasks):\n",
    "        result = await f\n",
    "        results.append(result)\n",
    "    return results\n",
    "\n",
    "\n",
    "def calculate_pass_rate(results):\n",
    "    total = len(results)\n",
    "    passed = sum(1 for result in results if result[\"pass\"])\n",
    "    pass_rate = (passed / total) * 100\n",
    "    print(f\"Pass rate: {pass_rate:.2f}%\")\n",
    "    return pass_rate"
   ]
  },
  {
   "cell_type": "code",
   "execution_count": 87,
   "metadata": {},
   "outputs": [
    {
     "name": "stderr",
     "output_type": "stream",
     "text": [
      " 51%|███████████████▊               | 153/300 [00:13<00:14, 10.24it/s]"
     ]
    },
    {
     "name": "stdout",
     "output_type": "stream",
     "text": [
      "Exception: 'float' object has no attribute 'value'\n"
     ]
    },
    {
     "name": "stderr",
     "output_type": "stream",
     "text": [
      "100%|███████████████████████████████| 300/300 [00:24<00:00, 12.04it/s]\n"
     ]
    }
   ],
   "source": [
    "results= await evaluate(testing, predict, max_concurrent_requests=10)"
   ]
  },
  {
   "cell_type": "code",
   "execution_count": 88,
   "metadata": {},
   "outputs": [
    {
     "name": "stdout",
     "output_type": "stream",
     "text": [
      "Pass rate: 26.00%\n"
     ]
    },
    {
     "data": {
      "text/plain": [
       "26.0"
      ]
     },
     "execution_count": 88,
     "metadata": {},
     "output_type": "execute_result"
    }
   ],
   "source": [
    "calculate_pass_rate(results)\n"
   ]
  },
  {
   "cell_type": "markdown",
   "metadata": {},
   "source": [
    "\n",
    "## Chain Of Thought\n",
    "\n",
    "Let's instead ask for a solution based of a reasoning following by a numerical answer.\n",
    "\n"
   ]
  },
  {
   "cell_type": "code",
   "execution_count": 8,
   "metadata": {},
   "outputs": [],
   "source": [
    "from pydantic import BaseModel, Field\n",
    "\n",
    "\n",
    "class MathSolution(BaseModel):\n",
    "    \"\"\"A math solution with step-by-step reasoning and final answer\"\"\"\n",
    "\n",
    "    thoughts: str = Field(..., description=\"step-by-step solving of the problem\")\n",
    "    value: int = Field(description=\"The final numerical answer to the math problem\")\n",
    "\n",
    "\n",
    "@fn(model=\"openai/gpt3.5-turbo\")\n",
    "async def predict_cot(question: str) -> MathSolution:\n",
    "    \"\"\"Solves math problems\"\"\""
   ]
  },
  {
   "cell_type": "code",
   "execution_count": 90,
   "metadata": {},
   "outputs": [
    {
     "name": "stderr",
     "output_type": "stream",
     "text": [
      "100%|███████████████████████████████| 300/300 [00:19<00:00, 15.46it/s]\n"
     ]
    }
   ],
   "source": [
    "results = await evaluate(testing, predict_cot, max_concurrent_requests=100)"
   ]
  },
  {
   "cell_type": "code",
   "execution_count": 91,
   "metadata": {},
   "outputs": [
    {
     "name": "stdout",
     "output_type": "stream",
     "text": [
      "Pass rate: 74.33%\n"
     ]
    },
    {
     "data": {
      "text/plain": [
       "74.33333333333333"
      ]
     },
     "execution_count": 91,
     "metadata": {},
     "output_type": "execute_result"
    }
   ],
   "source": [
    "calculate_pass_rate(results)"
   ]
  },
  {
   "cell_type": "markdown",
   "metadata": {},
   "source": [
    "Much better! Now let's add some examples form the GSM8k dataset"
   ]
  },
  {
   "cell_type": "code",
   "execution_count": 92,
   "metadata": {},
   "outputs": [],
   "source": [
    "@fn(model=\"openai/gpt3.5-turbo\")\n",
    "async def predict_cot(question: str) -> MathSolution:\n",
    "    \"\"\"\n",
    "    Solves math problems\n",
    "\n",
    "    Examples:\n",
    "    - Question: Natalia sold clips to 48 of her friends in April, and then she sold half as many clips in May. How many clips did Natalia sell altogether in April and May?\n",
    "        Thoughts: Natalia sold 48/2 = <<48/2=24>>24 clips in May. Natalia sold 48+24 = <<48+24=72>>72 clips altogether in April and May.\n",
    "        Valuee: 72\n",
    "\n",
    "    - Question: Weng earns $12 an hour for babysitting. Yesterday, she just did 50 minutes of babysitting. How much did she earn?\n",
    "        Thoughts: Weng earns 12/60 = $<<12/60=0.2>>0.2 per minute. Working 50 minutes, she earned 0.2 x 50 = $<<0.2*50=10>>10.\n",
    "        Value: 10\n",
    "\n",
    "    - Question: James writes a 3-page letter to 2 different friends twice a week. How many pages does he write a year?\n",
    "        Thoughts: He writes each friend 3*2=<<3*2=6>>6 pages a week So he writes 6*2=<<6*2=12>>12 pages every week That means he writes 12*52=<<12*52=624>>624 pages a year\n",
    "        Value: 624\n",
    "    \"\"\""
   ]
  },
  {
   "cell_type": "code",
   "execution_count": 93,
   "metadata": {},
   "outputs": [
    {
     "name": "stderr",
     "output_type": "stream",
     "text": [
      "  0%|                                 | 1/300 [00:00<02:06,  2.37it/s]"
     ]
    },
    {
     "name": "stdout",
     "output_type": "stream",
     "text": [
      "Exception: \n"
     ]
    },
    {
     "name": "stderr",
     "output_type": "stream",
     "text": [
      " 84%|██████████████████████████     | 252/300 [00:16<00:02, 22.74it/s]"
     ]
    },
    {
     "name": "stdout",
     "output_type": "stream",
     "text": [
      "Exception: {\"detail\":\"Structured generation failed, could not generate response matching the schema.\"}\n"
     ]
    },
    {
     "name": "stderr",
     "output_type": "stream",
     "text": [
      "100%|███████████████████████████████| 300/300 [00:24<00:00, 12.30it/s]\n"
     ]
    }
   ],
   "source": [
    "results_manual_examples = await evaluate(testing, predict_cot, max_concurrent_requests=100)"
   ]
  },
  {
   "cell_type": "code",
   "execution_count": 94,
   "metadata": {},
   "outputs": [
    {
     "name": "stdout",
     "output_type": "stream",
     "text": [
      "Pass rate: 73.33%\n"
     ]
    },
    {
     "data": {
      "text/plain": [
       "73.33333333333333"
      ]
     },
     "execution_count": 94,
     "metadata": {},
     "output_type": "execute_result"
    }
   ],
   "source": [
    "calculate_pass_rate(results_manual_examples)"
   ]
  },
  {
   "cell_type": "markdown",
   "metadata": {},
   "source": [
    "# Synthetic examples\n",
    "\n",
    "Let's generate examples with Claude 3 Opus"
   ]
  },
  {
   "cell_type": "code",
   "execution_count": 9,
   "metadata": {},
   "outputs": [],
   "source": [
    "@fn(model=\"anthropic/claude-3-opus\")\n",
    "async def predict_cot_with_examples(question: str) -> MathSolution:\n",
    "    \"\"\"Solves math problems\"\"\""
   ]
  },
  {
   "cell_type": "code",
   "execution_count": 68,
   "metadata": {},
   "outputs": [
    {
     "data": {
      "text/plain": [
       "MathSolution(thoughts='To find the total number of clips Natalia sold in April and May:\\n1. In April, Natalia sold clips to 48 friends.\\n2. In May, she sold half as many clips as in April. \\n   Half of 48 is 48 ÷ 2 = 24.\\n   So in May, Natalia sold 24 clips.\\n3. To get the total, add the clips sold in April and May:\\n   April: 48 clips\\n   May: 24 clips \\n   Total: 48 + 24 = 72 clips\\n\\nTherefore, the total number of clips Natalia sold altogether in April and May is 72.', value=72)"
      ]
     },
     "execution_count": 68,
     "metadata": {},
     "output_type": "execute_result"
    }
   ],
   "source": [
    "await predict_cot_with_examples(training[0][\"question\"])"
   ]
  },
  {
   "cell_type": "code",
   "execution_count": 14,
   "metadata": {},
   "outputs": [
    {
     "name": "stdout",
     "output_type": "stream",
     "text": [
      "thoughts=\"Okay, let's break this down step-by-step:\\n1. In April, Natalia sold clips to 48 of her friends. So in April she sold 48 clips.\\n2. In May, she sold half as many clips as she did in April.\\n   - To calculate half of 48: 48 ÷ 2 = 24\\n   - So in May she sold 24 clips\\n3. To calculate the total clips sold in April and May, we add the numbers together:\\n   - April clips: 48\\n   - May clips: 24 \\n   - Total: 48 + 24 = 72\\n\\nTherefore, the total number of clips Natalia sold altogether in April and May is 72.\" value=72\n",
      "thoughts=\"Okay, let's break this down step-by-step:\\n1. Weng earns $12 per hour babysitting\\n2. Yesterday she babysat for 50 minutes\\n3. There are 60 minutes in an hour\\n4. So 50 minutes is 50/60 or 5/6 of an hour\\n5. If she earns $12 for a full hour, for 5/6 of an hour she earned:\\n   $12 * (5/6) = $10\\nTherefore, for 50 minutes of babysitting, Weng earned $10.\" value=10\n",
      "thoughts=\"Let's organize the information we have:\\n- The wallet costs $100\\n- Betty has half of the money she needs, which is $100/2 = $50\\n- Her parents gave her $15\\n- Her grandparents gave her twice as much as her parents, which is $15 * 2 = $30\\n\\nNow let's calculate:\\nMoney Betty had initially: $50\\nMoney from parents: + $15\\nMoney from grandparents: + $30\\nTotal money Betty has now: $50 + $15 + $30 = $95\\n\\nThe wallet costs $100, so the amount more Betty needs is:\\n$100 - $95 = $5\\n\\nTherefore, Betty needs $5 more to buy the wallet.\" value=5\n",
      "thoughts=\"Okay, let's break this down step-by-step:\\n1. The book has 120 pages total\\n2. Yesterday, Julie read 12 pages\\n3. Today, she read twice as many pages as yesterday:\\n   12 * 2 = 24 pages read today\\n4. So far, Julie has read:\\n   12 + 24 = 36 pages total\\n5. There are 120 - 36 = 84 pages remaining in the book\\n6. Julie wants to read half of the remaining pages tomorrow.\\n   Half of 84 is: 84 / 2 = 42\\n\\nTherefore, if Julie wants to read half of the remaining pages in the book tomorrow, she should read 42 pages.\" value=42\n",
      "thoughts=\"To figure out how many pages James writes in a year, let's break it down step-by-step:\\n\\n1. James writes a 3-page letter to each friend.\\n2. He writes to 2 different friends.\\n   - So for the 2 friends that's 3 pages * 2 = 6 pages per letter writing session \\n3. He does this letter writing twice a week.\\n   - So that's 6 pages * 2 times per week = 12 pages per week\\n4. To get the number of pages in a year:\\n   - There are 52 weeks in a year\\n   - 12 pages per week * 52 weeks = 624 pages\\n\\nTherefore, the total number of pages James writes to his friends in a year is 624 pages.\" value=624\n",
      "thoughts=\"Okay, let's organize the information we have and solve this step-by-step:\\n\\n- Mark has 10 yellow flowers\\n- The number of purple flowers is 80% more than the yellow ones\\n  - To calculate 80% more, take the original number (10) and add 80% of it\\n  - 80% of 10 is 0.8 * 10 = 8\\n  - So there are 10 + 8 = 18 purple flowers\\n- The number of green flowers is 25% of the total of yellow and purple\\n  - Yellow + purple = 10 + 18 = 28 total\\n  - 25% of 28 is 0.25 * 28 = 7\\n  - So there are 7 green flowers\\n\\nTo get the total, sum up each color:\\n- Yellow: 10\\n- Purple: 18\\n- Green: 7\\n- Total = 10 + 18 + 7 = 35\\n\\nTherefore, the total number of flowers in Mark's garden is 35.\" value=35\n",
      "thoughts=\"Okay, let's break this down step-by-step:\\n1. Albert bought 2 large pizzas and 2 small pizzas\\n2. A large pizza has 16 slices\\n3. 2 large pizzas would have 16 * 2 = 32 slices\\n4. A small pizza has 8 slices \\n5. 2 small pizzas would have 8 * 2 = 16 slices\\n6. In total, Albert has 32 slices from the large pizzas and 16 slices from the small pizzas\\n7. If he eats it all, the total number of slices is 32 + 16 = 48\" value=48\n",
      "thoughts=\"Okay, let's break this down step-by-step:\\n1. Ken starts with a box and adds jelly beans until the weight is 2 pounds.\\nWeight after jelly beans = 2 lbs\\n\\n2. Then he adds brownies until the weight triples. \\nWeight after brownies = 2 lbs * 3 = 6 lbs\\n\\n3. Next he adds another 2 pounds of jelly beans.\\nWeight after more jelly beans = 6 lbs + 2 lbs = 8 lbs \\n\\n4. Finally, he adds gummy worms until the weight doubles.\\nFinal weight = 8 lbs * 2 = 16 lbs\\n\\nTherefore, the final weight of the box of goodies is 16 pounds.\" value=16\n",
      "thoughts=\"To figure out how much Alexis paid for the shoes, let's calculate the total amount she spent on the other items and subtract that from her original budget of $200.\\n\\nButton-up shirt: $30\\nSuit pants: $46\\nSuit coat: $38\\nSocks: $11\\nBelt: $18\\n\\nTotal spent on other items = $30 + $46 + $38 + $11 + $18 = $143\\n\\nAlexis started with a budget of $200 and has $16 left.\\nSo the amount she spent altogether is $200 - $16 = $184\\n\\nWe know she spent $143 on the other items. \\nSo the amount she spent on the shoes is $184 - $143 = $41\\n\\nTherefore, Alexis paid $41 for the shoes.\" value=41\n",
      "thoughts=\"To calculate Tina's total earnings for working 10 hours per day for 5 days, we need to:\\n1. Calculate her regular pay for 8 hours per day\\n   - Regular hourly rate: $18/hour\\n   - Regular hours per day: 8 hours\\n   - Regular daily pay: 18 * 8 = $144 per day\\n   - Regular pay for 5 days: 144 * 5 = $720\\n\\n2. Calculate her overtime pay for the additional 2 hours per day\\n   - Overtime hourly rate: 18 + (18 * 1/2) = $27/hour\\n   - Overtime hours per day: 10 - 8 = 2 hours\\n   - Overtime daily pay: 27 * 2 = $54 per day\\n   - Overtime pay for 5 days: 54 * 5 = $270\\n\\n3. Add her regular pay and overtime pay\\n   - Total pay = Regular pay + Overtime pay\\n              = $720 + $270\\n              = $990\" value=990\n",
      "thoughts='1. The monster rises every 100 years, so over 300 years it has risen 3 times.\\n2. Each new ship has twice as many people as the previous one. So if we call the number of people on the first ship x:\\n   - 1st ship after 100 years: x people\\n   - 2nd ship after 200 years: 2x people \\n   - 3rd ship after 300 years: 4x people\\n3. In total, the monster ate 847 people over the 3 ships.\\n   x + 2x + 4x = 847\\n   7x = 847\\n   x = 121\\n4. Therefore, the first ship that was eaten 100 years ago had 121 people on it.' value=121\n",
      "thoughts=\"To find out how many driveways Tobias shoveled, let's break it down step-by-step:\\n\\n1. Calculate Tobias' total savings from his allowance over 3 months:\\n   $5 per month × 3 months = $15\\n   \\n2. Calculate Tobias' earnings from mowing 4 lawns: \\n   $15 per lawn × 4 lawns = $60\\n   \\n3. Let the number of driveways shoveled be x. Then his total earnings from shoveling is:\\n   $7 per driveway × x driveways = $7x\\n   \\n4. Now, set up an equation with his total money. The cost of the shoes plus his $15 change equals the sum of his allowance, mowing, and shoveling earnings:\\n   $95 + $15 = $15 + $60 + $7x\\n   \\n5. Simplify the equation:\\n   $110 = $75 + $7x\\n   \\n6. Subtract $75 from both sides:\\n   $35 = $7x\\n   \\n7. Divide both sides by $7 to solve for x:\\n   x = $35 ÷ $7 = 5\\n   \\nTherefore, Tobias shoveled 5 driveways.\" value=5\n",
      "thoughts='1. Randy has 60 mango trees.\\n2. He has 5 less than half as many coconut trees as mango trees.\\n   - Half of 60 mango trees is 60 / 2 = 30\\n   - Randy has 5 less than 30 coconut trees, so 30 - 5 = 25 coconut trees\\n3. To calculate the total trees, add the mango and coconut trees together:\\n   - Total trees = 60 mango trees + 25 coconut trees = 85 trees' value=85\n",
      "thoughts=\"Okay, let's break this down step-by-step:\\n1. Jasper bought 2 pounds of cheddar cheese at $10 total. So each pound of cheddar cheese costs $10 / 2 = $5 per pound.\\n\\n2. He bought a pound of cream cheese at half the price of the cheddar. Since cheddar is $5 per pound, the cream cheese costs $5 / 2 = $2.50\\n\\n3. The pack of cold cuts cost twice the price of the cheddar cheese. The cheddar cheese total was $10, so the cold cuts cost $10 * 2 = $20\\n\\n4. To calculate the total, we sum up the costs:\\n   Cheddar cheese: $10\\n   Cream cheese: $2.50\\n   Cold cuts: $20\\n   Total = $10 + $2.50 + $20 = $32.50\\n\\nTherefore, the total amount Jasper spent on charcuterie ingredients is $32.50.\" value=32\n",
      "thoughts=\"Okay, let's break this down step-by-step:\\n1. Joy can read 8 pages in 20 minutes\\n2. To find how many pages she reads per minute:\\n   8 pages / 20 minutes = 0.4 pages per minute\\n3. We want to know how long it will take her to read 120 pages\\n4. At a rate of 0.4 pages per minute, to find how many minutes for 120 pages:\\n   120 pages / 0.4 pages per minute = 300 minutes\\n5. Convert 300 minutes to hours:\\n   300 minutes / 60 minutes per hour = 5 hours\\n\\nTherefore, it will take Joy 5 hours to read 120 pages at her current reading speed.\" value=5\n",
      "thoughts=\"Okay, let's break this down step-by-step:\\n1. Cost to make a movie = $2000\\n2. Cost to make each DVD = $6 \\n3. Selling price of each DVD = $6 * 2.5 = $15\\n4. Profit per DVD = Selling price - Cost = $15 - $6 = $9\\n5. DVDs sold per day = 500\\n6. Days per week movies are sold = 5 \\n7. Profit per day = Profit per DVD * DVDs sold per day\\n                  = $9 * 500 \\n                  = $4500\\n8. Profit per week = Profit per day * Days per week \\n                   = $4500 * 5\\n                   = $22500\\n9. Profit for 20 weeks = Profit per week * 20\\n                       = $22500 * 20 \\n                       = $450000\\n                       \\nSo the total profit James makes in 20 weeks is $450000.\\n\\nHowever, we also need to subtract the initial cost of making the movie.\\n10. Net profit = Total profit - Cost of making movie\\n                = $450000 - $2000\\n                = $448000\\n                \\nTherefore, the net profit James makes in 20 weeks is $448000.\" value=448000\n",
      "thoughts=\"To solve this problem, let's follow these steps:\\n\\n1. Understand the given information:\\n   * The profit is shared between Mike and Johnson in the ratio 2:5.\\n   * Johnson got $2500.\\n   * Mike spent $200 on a shirt from his share.\\n\\n2. Find the total ratio parts:\\n   * Mike's ratio = 2\\n   * Johnson's ratio = 5\\n   * Total ratio parts = 2 + 5 = 7\\n\\n3. Calculate the value of one ratio part:\\n   * Johnson's share = $2500\\n   * Johnson's ratio = 5\\n   * Value of 1 part = 2500 ÷ 5 = $500\\n\\n4. Calculate Mike's share of the profit:\\n   * Mike's ratio = 2\\n   * Mike's share = 2 × $500 = $1000\\n\\n5. Subtract the cost of the shirt from Mike's share:\\n   * Cost of the shirt = $200\\n   * Remaining amount = $1000 - $200 = $800\\n\\nTherefore, Mike will have $800 after spending $200 on a shirt from his share of the profit.\" value=800\n",
      "thoughts='Given:\\n- 26 pink hard hats initially\\n- 15 green hard hats initially \\n- 24 yellow hard hats initially\\n- Carl takes away 4 pink hard hats\\n- John takes away 6 pink hard hats\\n- John also takes away twice as many green hard hats as pink (6 * 2 = 12)\\n\\nStep 1: Calculate remaining pink hard hats\\n26 - 4 (taken by Carl) - 6 (taken by John) = 16 pink hard hats remain\\n\\nStep 2: Calculate remaining green hard hats \\n15 - 12 (taken by John) = 3 green hard hats remain\\n\\nStep 3: Yellow hard hats are unchanged\\n24 yellow hard hats remain\\n\\nStep 4: Sum remaining hard hats of each color\\n16 (pink) + 3 (green) + 24 (yellow) = 43 total hard hats remain' value=43\n",
      "thoughts=\"Okay, let's break this down step-by-step:\\n\\n1. Understand the given information:\\n   - Roque takes 2 hours to walk to work \\n   - Roque takes 1 hour to bike to work\\n   - He walks to and from work 3 times a week\\n   - He bikes to and from work 2 times a week\\n\\n2. Calculate total walking time per week:  \\n   - One way walking time = 2 hours\\n   - Round trip walking time = 2 hours × 2 = 4 hours \\n   - Weekly walking time = 4 hours × 3 = 12 hours\\n\\n3. Calculate total biking time per week:\\n   - One way biking time = 1 hour \\n   - Round trip biking time = 1 hour × 2 = 2 hours\\n   - Weekly biking time = 2 hours × 2 = 4 hours\\n\\n4. Sum up total commute time:\\n   - Total time = Weekly walking time + Weekly biking time\\n   - Total time = 12 hours + 4 hours = 16 hours\\n\\nTherefore, Roque spends a total of 16 hours per week commuting to and from work by walking and biking.\" value=16\n",
      "thoughts=\"Okay, let's break this down step-by-step:\\n1. Tim bikes to and from work each of the 5 workdays. His work is 20 miles away. So each workday he bikes:\\n   20 miles to work + 20 miles back home = 40 miles per workday\\n   \\n2. In the 5 workdays, he bikes a total of: \\n   40 miles per day * 5 days = 200 miles for commuting to work\\n   \\n3. On the weekend, he goes for a 200 mile bike ride.\\n\\n4. So in total he bikes:\\n   200 miles commuting + 200 miles on the weekend = 400 miles total\\n   \\n5. He bikes at a speed of 25 miles per hour. To calculate the time, we divide the total distance by the speed:\\n   400 miles / 25 miles per hour = 16 hours\\n   \\nTherefore, Tim spends 16 hours biking in a week.\" value=16\n"
     ]
    }
   ],
   "source": [
    "from opperai import AsyncOpper\n",
    "from opperai.types import ChatPayload, Message\n",
    "\n",
    "opper = AsyncOpper()\n",
    "\n",
    "\n",
    "for qa in training[0:20]:\n",
    "    payload = ChatPayload(messages=[Message(role=\"user\", content=qa[\"question\"])])\n",
    "    try:\n",
    "        answer, api_response = await predict_cot_with_examples.call(payload)\n",
    "        print(answer)\n",
    "        await api_response.span.save_example()\n",
    "    except Exception as e:\n",
    "        print(e)\n",
    "        # It is possible the model fails to generate a response with the desired format\n",
    "        # when it thinks the answer is not numerical!"
   ]
  },
  {
   "cell_type": "code",
   "execution_count": 96,
   "metadata": {},
   "outputs": [],
   "source": [
    "@fn(\n",
    "    model=\"openai/gpt3.5-turbo\",\n",
    "    few_shot=True,\n",
    "    few_shot_count=3,\n",
    ")\n",
    "async def predict_cot_with_examples(question: str) -> MathSolution:\n",
    "    \"\"\"Solves math problems\"\"\""
   ]
  },
  {
   "cell_type": "code",
   "execution_count": 97,
   "metadata": {},
   "outputs": [
    {
     "name": "stderr",
     "output_type": "stream",
     "text": [
      " 54%|████████████████▋              | 161/300 [00:15<00:07, 17.59it/s]"
     ]
    },
    {
     "name": "stdout",
     "output_type": "stream",
     "text": [
      "Exception: {\"detail\":\"Structured generation failed, could not generate response matching the schema.\"}\n"
     ]
    },
    {
     "name": "stderr",
     "output_type": "stream",
     "text": [
      " 84%|██████████████████████████     | 252/300 [00:20<00:02, 19.48it/s]"
     ]
    },
    {
     "name": "stdout",
     "output_type": "stream",
     "text": [
      "Exception: {\"detail\":\"Structured generation failed, could not generate response matching the schema.\"}\n"
     ]
    },
    {
     "name": "stderr",
     "output_type": "stream",
     "text": [
      " 90%|███████████████████████████▉   | 270/300 [00:21<00:01, 24.14it/s]"
     ]
    },
    {
     "name": "stdout",
     "output_type": "stream",
     "text": [
      "Exception: {\"detail\":\"Structured generation failed, could not generate response matching the schema.\"}\n"
     ]
    },
    {
     "name": "stderr",
     "output_type": "stream",
     "text": [
      " 91%|████████████████████████████▎  | 274/300 [00:22<00:02, 10.42it/s]"
     ]
    },
    {
     "name": "stdout",
     "output_type": "stream",
     "text": [
      "Exception: {\"detail\":\"Structured generation failed, could not generate response matching the schema.\"}\n"
     ]
    },
    {
     "name": "stderr",
     "output_type": "stream",
     "text": [
      " 94%|█████████████████████████████  | 281/300 [00:23<00:03,  5.78it/s]"
     ]
    },
    {
     "name": "stdout",
     "output_type": "stream",
     "text": [
      "Exception: {\"detail\":\"Structured generation failed, could not generate response matching the schema.\"}\n"
     ]
    },
    {
     "name": "stderr",
     "output_type": "stream",
     "text": [
      " 97%|██████████████████████████████▏| 292/300 [00:26<00:01,  4.07it/s]"
     ]
    },
    {
     "name": "stdout",
     "output_type": "stream",
     "text": [
      "Exception: {\"detail\":\"Structured generation failed, could not generate response matching the schema.\"}\n"
     ]
    },
    {
     "name": "stderr",
     "output_type": "stream",
     "text": [
      " 99%|██████████████████████████████▌| 296/300 [00:29<00:02,  1.65it/s]"
     ]
    },
    {
     "name": "stdout",
     "output_type": "stream",
     "text": [
      "Exception: {\"detail\":\"Structured generation failed, could not generate response matching the schema.\"}\n"
     ]
    },
    {
     "name": "stderr",
     "output_type": "stream",
     "text": [
      " 99%|██████████████████████████████▋| 297/300 [00:29<00:01,  1.96it/s]"
     ]
    },
    {
     "name": "stdout",
     "output_type": "stream",
     "text": [
      "Exception: {\"detail\":\"Structured generation failed, could not generate response matching the schema.\"}\n"
     ]
    },
    {
     "name": "stderr",
     "output_type": "stream",
     "text": [
      " 99%|██████████████████████████████▊| 298/300 [00:33<00:02,  1.39s/it]"
     ]
    },
    {
     "name": "stdout",
     "output_type": "stream",
     "text": [
      "Exception: {\"detail\":\"Structured generation failed, could not generate response matching the schema.\"}\n"
     ]
    },
    {
     "name": "stderr",
     "output_type": "stream",
     "text": [
      "100%|██████████████████████████████▉| 299/300 [00:34<00:01,  1.37s/it]"
     ]
    },
    {
     "name": "stdout",
     "output_type": "stream",
     "text": [
      "Exception: {\"detail\":\"Structured generation failed, could not generate response matching the schema.\"}\n"
     ]
    },
    {
     "name": "stderr",
     "output_type": "stream",
     "text": [
      "100%|███████████████████████████████| 300/300 [00:36<00:00,  8.31it/s]"
     ]
    },
    {
     "name": "stdout",
     "output_type": "stream",
     "text": [
      "Exception: {\"detail\":\"Structured generation failed, could not generate response matching the schema.\"}\n"
     ]
    },
    {
     "name": "stderr",
     "output_type": "stream",
     "text": [
      "\n"
     ]
    }
   ],
   "source": [
    "results_synthetic_examples = await evaluate(\n",
    "    testing, predict_cot_with_examples, max_concurrent_requests=100\n",
    ")"
   ]
  },
  {
   "cell_type": "code",
   "execution_count": 98,
   "metadata": {},
   "outputs": [
    {
     "name": "stdout",
     "output_type": "stream",
     "text": [
      "Pass rate: 77.67%\n"
     ]
    },
    {
     "data": {
      "text/plain": [
       "77.66666666666666"
      ]
     },
     "execution_count": 98,
     "metadata": {},
     "output_type": "execute_result"
    }
   ],
   "source": [
    "# We get between 77-81% most of the time here.\n",
    "calculate_pass_rate(results_synthetic_examples)\n",
    "\n"
   ]
  },
  {
   "cell_type": "markdown",
   "metadata": {},
   "source": [
    "And that's it! We leveraged synthetic example generation and chain of thought prompting to get much higher accuracy on the GSM8k benchmark"
   ]
  }
 ],
 "metadata": {
  "kernelspec": {
   "display_name": "Python 3 (ipykernel)",
   "language": "python",
   "name": "python3"
  },
  "language_info": {
   "codemirror_mode": {
    "name": "ipython",
    "version": 3
   },
   "file_extension": ".py",
   "mimetype": "text/x-python",
   "name": "python",
   "nbconvert_exporter": "python",
   "pygments_lexer": "ipython3",
   "version": "3.12.2"
  }
 },
 "nbformat": 4,
 "nbformat_minor": 4
}
