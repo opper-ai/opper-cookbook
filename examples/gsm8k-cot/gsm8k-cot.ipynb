{
 "cells": [
  {
   "cell_type": "markdown",
   "metadata": {},
   "source": [
    "# Getting the best out of LLMs\n",
    "\n",
    "This notebook complements our [blog series](https://opper.ai/blog/getting-the-most-out-of-llms-1) on getting the best out of LLMs. It demoes Opper functions combined with few shot retrieval.\n",
    "\n",
    "\n"
   ]
  },
  {
   "cell_type": "code",
   "execution_count": 81,
   "metadata": {},
   "outputs": [
    {
     "name": "stdout",
     "output_type": "stream",
     "text": [
      "Requirement already satisfied: datasets in /Users/alex/code/opper-cookbook/venv/lib/python3.12/site-packages (2.18.0)\n",
      "Requirement already satisfied: filelock in /Users/alex/code/opper-cookbook/venv/lib/python3.12/site-packages (from datasets) (3.13.4)\n",
      "Requirement already satisfied: numpy>=1.17 in /Users/alex/code/opper-cookbook/venv/lib/python3.12/site-packages (from datasets) (1.26.4)\n",
      "Requirement already satisfied: pyarrow>=12.0.0 in /Users/alex/code/opper-cookbook/venv/lib/python3.12/site-packages (from datasets) (15.0.2)\n",
      "Requirement already satisfied: pyarrow-hotfix in /Users/alex/code/opper-cookbook/venv/lib/python3.12/site-packages (from datasets) (0.6)\n",
      "Requirement already satisfied: dill<0.3.9,>=0.3.0 in /Users/alex/code/opper-cookbook/venv/lib/python3.12/site-packages (from datasets) (0.3.8)\n",
      "Requirement already satisfied: pandas in /Users/alex/code/opper-cookbook/venv/lib/python3.12/site-packages (from datasets) (2.2.2)\n",
      "Requirement already satisfied: requests>=2.19.0 in /Users/alex/code/opper-cookbook/venv/lib/python3.12/site-packages (from datasets) (2.31.0)\n",
      "Requirement already satisfied: tqdm>=4.62.1 in /Users/alex/code/opper-cookbook/venv/lib/python3.12/site-packages (from datasets) (4.66.2)\n",
      "Requirement already satisfied: xxhash in /Users/alex/code/opper-cookbook/venv/lib/python3.12/site-packages (from datasets) (3.4.1)\n",
      "Requirement already satisfied: multiprocess in /Users/alex/code/opper-cookbook/venv/lib/python3.12/site-packages (from datasets) (0.70.16)\n",
      "Requirement already satisfied: fsspec<=2024.2.0,>=2023.1.0 in /Users/alex/code/opper-cookbook/venv/lib/python3.12/site-packages (from fsspec[http]<=2024.2.0,>=2023.1.0->datasets) (2024.2.0)\n",
      "Requirement already satisfied: aiohttp in /Users/alex/code/opper-cookbook/venv/lib/python3.12/site-packages (from datasets) (3.9.3)\n",
      "Requirement already satisfied: huggingface-hub>=0.19.4 in /Users/alex/code/opper-cookbook/venv/lib/python3.12/site-packages (from datasets) (0.22.2)\n",
      "Requirement already satisfied: packaging in /Users/alex/code/opper-cookbook/venv/lib/python3.12/site-packages (from datasets) (24.0)\n",
      "Requirement already satisfied: pyyaml>=5.1 in /Users/alex/code/opper-cookbook/venv/lib/python3.12/site-packages (from datasets) (6.0.1)\n",
      "Requirement already satisfied: aiosignal>=1.1.2 in /Users/alex/code/opper-cookbook/venv/lib/python3.12/site-packages (from aiohttp->datasets) (1.3.1)\n",
      "Requirement already satisfied: attrs>=17.3.0 in /Users/alex/code/opper-cookbook/venv/lib/python3.12/site-packages (from aiohttp->datasets) (23.2.0)\n",
      "Requirement already satisfied: frozenlist>=1.1.1 in /Users/alex/code/opper-cookbook/venv/lib/python3.12/site-packages (from aiohttp->datasets) (1.4.1)\n",
      "Requirement already satisfied: multidict<7.0,>=4.5 in /Users/alex/code/opper-cookbook/venv/lib/python3.12/site-packages (from aiohttp->datasets) (6.0.5)\n",
      "Requirement already satisfied: yarl<2.0,>=1.0 in /Users/alex/code/opper-cookbook/venv/lib/python3.12/site-packages (from aiohttp->datasets) (1.9.4)\n",
      "Requirement already satisfied: typing-extensions>=3.7.4.3 in /Users/alex/code/opper-cookbook/venv/lib/python3.12/site-packages (from huggingface-hub>=0.19.4->datasets) (4.11.0)\n",
      "Requirement already satisfied: charset-normalizer<4,>=2 in /Users/alex/code/opper-cookbook/venv/lib/python3.12/site-packages (from requests>=2.19.0->datasets) (3.3.2)\n",
      "Requirement already satisfied: idna<4,>=2.5 in /Users/alex/code/opper-cookbook/venv/lib/python3.12/site-packages (from requests>=2.19.0->datasets) (3.7)\n",
      "Requirement already satisfied: urllib3<3,>=1.21.1 in /Users/alex/code/opper-cookbook/venv/lib/python3.12/site-packages (from requests>=2.19.0->datasets) (2.2.1)\n",
      "Requirement already satisfied: certifi>=2017.4.17 in /Users/alex/code/opper-cookbook/venv/lib/python3.12/site-packages (from requests>=2.19.0->datasets) (2024.2.2)\n",
      "Requirement already satisfied: python-dateutil>=2.8.2 in /Users/alex/code/opper-cookbook/venv/lib/python3.12/site-packages (from pandas->datasets) (2.9.0.post0)\n",
      "Requirement already satisfied: pytz>=2020.1 in /Users/alex/code/opper-cookbook/venv/lib/python3.12/site-packages (from pandas->datasets) (2024.1)\n",
      "Requirement already satisfied: tzdata>=2022.7 in /Users/alex/code/opper-cookbook/venv/lib/python3.12/site-packages (from pandas->datasets) (2024.1)\n",
      "Requirement already satisfied: six>=1.5 in /Users/alex/code/opper-cookbook/venv/lib/python3.12/site-packages (from python-dateutil>=2.8.2->pandas->datasets) (1.16.0)\n",
      "Requirement already satisfied: opperai in /Users/alex/code/opper-cookbook/venv/lib/python3.12/site-packages (0.3.3)\n",
      "Requirement already satisfied: httpx in /Users/alex/code/opper-cookbook/venv/lib/python3.12/site-packages (from opperai) (0.27.0)\n",
      "Requirement already satisfied: httpx-sse in /Users/alex/code/opper-cookbook/venv/lib/python3.12/site-packages (from opperai) (0.4.0)\n",
      "Requirement already satisfied: pydantic in /Users/alex/code/opper-cookbook/venv/lib/python3.12/site-packages (from opperai) (2.7.0)\n",
      "Requirement already satisfied: anyio in /Users/alex/code/opper-cookbook/venv/lib/python3.12/site-packages (from httpx->opperai) (4.3.0)\n",
      "Requirement already satisfied: certifi in /Users/alex/code/opper-cookbook/venv/lib/python3.12/site-packages (from httpx->opperai) (2024.2.2)\n",
      "Requirement already satisfied: httpcore==1.* in /Users/alex/code/opper-cookbook/venv/lib/python3.12/site-packages (from httpx->opperai) (1.0.5)\n",
      "Requirement already satisfied: idna in /Users/alex/code/opper-cookbook/venv/lib/python3.12/site-packages (from httpx->opperai) (3.7)\n",
      "Requirement already satisfied: sniffio in /Users/alex/code/opper-cookbook/venv/lib/python3.12/site-packages (from httpx->opperai) (1.3.1)\n",
      "Requirement already satisfied: h11<0.15,>=0.13 in /Users/alex/code/opper-cookbook/venv/lib/python3.12/site-packages (from httpcore==1.*->httpx->opperai) (0.14.0)\n",
      "Requirement already satisfied: annotated-types>=0.4.0 in /Users/alex/code/opper-cookbook/venv/lib/python3.12/site-packages (from pydantic->opperai) (0.6.0)\n",
      "Requirement already satisfied: pydantic-core==2.18.1 in /Users/alex/code/opper-cookbook/venv/lib/python3.12/site-packages (from pydantic->opperai) (2.18.1)\n",
      "Requirement already satisfied: typing-extensions>=4.6.1 in /Users/alex/code/opper-cookbook/venv/lib/python3.12/site-packages (from pydantic->opperai) (4.11.0)\n",
      "Requirement already satisfied: pydantic in /Users/alex/code/opper-cookbook/venv/lib/python3.12/site-packages (2.7.0)\n",
      "Requirement already satisfied: annotated-types>=0.4.0 in /Users/alex/code/opper-cookbook/venv/lib/python3.12/site-packages (from pydantic) (0.6.0)\n",
      "Requirement already satisfied: pydantic-core==2.18.1 in /Users/alex/code/opper-cookbook/venv/lib/python3.12/site-packages (from pydantic) (2.18.1)\n",
      "Requirement already satisfied: typing-extensions>=4.6.1 in /Users/alex/code/opper-cookbook/venv/lib/python3.12/site-packages (from pydantic) (4.11.0)\n",
      "Requirement already satisfied: tqdm in /Users/alex/code/opper-cookbook/venv/lib/python3.12/site-packages (4.66.2)\n"
     ]
    }
   ],
   "source": [
    "# Install the datasets library from huggingface\n",
    "!pip install datasets \n",
    "!pip install opperai\n",
    "!pip install pydantic\n",
    "!pip install tqdm\n",
    "\n",
    "import os\n",
    "from datasets import load_dataset\n",
    "\n",
    "os.environ[\"OPPER_API_KEY\"] = \"your-api-key\"\n",
    "os.environ[\"OPPER_PROJECT\"] = \"gsm8k\"\n",
    "\n",
    "# Get the dataset from huggingface https://huggingface.co/datasets/gsm8k\n",
    "dataset = load_dataset(\"gsm8k\", \"main\")"
   ]
  },
  {
   "cell_type": "markdown",
   "metadata": {},
   "source": [
    "Now, let's parse this dataset so we can separate the rationale from the values."
   ]
  },
  {
   "cell_type": "code",
   "execution_count": 82,
   "metadata": {},
   "outputs": [],
   "source": [
    "def build_datasets(count: int = 100, split: float = 0.7):\n",
    "    train_count = int(count * split)\n",
    "    test_count = count - train_count\n",
    "\n",
    "    train_dataset = [dataset[\"train\"][i] for i in range(train_count)]\n",
    "    test_dataset = [dataset[\"train\"][i] for i in range(-test_count, 0)]\n",
    "\n",
    "    def parse_data(data):\n",
    "        parsed_data = []\n",
    "        for item in data:\n",
    "            question, full_answer = item[\"question\"], item[\"answer\"]\n",
    "            thoughts, _, answer = full_answer.partition(\"\\n#### \")\n",
    "            parsed_data.append({\"question\": question, \"thoughts\": thoughts, \"answer\": answer or None})\n",
    "        return parsed_data\n",
    "\n",
    "    train_data = parse_data(train_dataset)\n",
    "    test_data = parse_data(test_dataset)\n",
    "\n",
    "    return train_data, test_data\n"
   ]
  },
  {
   "cell_type": "code",
   "execution_count": 83,
   "metadata": {},
   "outputs": [],
   "source": [
    "# We take 1000 samples and split them into 70% training and 30% testing\n",
    "training, testing = build_datasets(1000, 0.7)"
   ]
  },
  {
   "cell_type": "code",
   "execution_count": 84,
   "metadata": {},
   "outputs": [
    {
     "data": {
      "text/plain": [
       "{'question': 'Natalia sold clips to 48 of her friends in April, and then she sold half as many clips in May. How many clips did Natalia sell altogether in April and May?',\n",
       " 'thoughts': 'Natalia sold 48/2 = <<48/2=24>>24 clips in May.\\nNatalia sold 48+24 = <<48+24=72>>72 clips altogether in April and May.',\n",
       " 'answer': '72'}"
      ]
     },
     "execution_count": 84,
     "metadata": {},
     "output_type": "execute_result"
    }
   ],
   "source": [
    "training[0]"
   ]
  },
  {
   "cell_type": "code",
   "execution_count": 85,
   "metadata": {},
   "outputs": [],
   "source": [
    "from opperai import fn\n",
    "\n",
    "@fn(model=\"openai/gpt3.5-turbo\")\n",
    "async def predict(question: str) -> int:\n",
    "    \"\"\"Solves math word problems\"\"\""
   ]
  },
  {
   "cell_type": "markdown",
   "metadata": {},
   "source": [
    "That's it! Now let's run our dataset through this function and see how well it performs. First let's define our evaluation function."
   ]
  },
  {
   "cell_type": "code",
   "execution_count": 86,
   "metadata": {},
   "outputs": [],
   "source": [
    "\n",
    "import asyncio\n",
    "from tqdm.asyncio import tqdm_asyncio\n",
    "\n",
    "\n",
    "async def evaluate(test_set, function, max_concurrent_requests: int = 10):\n",
    "    semaphore = asyncio.Semaphore(max_concurrent_requests)\n",
    "\n",
    "    async def evaluate_item(item):\n",
    "        async with semaphore:\n",
    "            try:\n",
    "                answer_int = int(item[\"answer\"].replace(\",\", \"\"))\n",
    "                result = await function(item[\"question\"])\n",
    "                value = result if isinstance(result, int) else result.value\n",
    "                return {\n",
    "                    \"expected\": item[\"answer\"],\n",
    "                    \"got\": value,\n",
    "                    \"question\": item[\"question\"],\n",
    "                    \"pass\": answer_int == value,\n",
    "                    \"raw\": result,\n",
    "                }\n",
    "            except Exception as e:\n",
    "                print(f\"Exception: {e}\")\n",
    "                return {\n",
    "                    \"expected\": item[\"answer\"],\n",
    "                    \"got\": None,\n",
    "                    \"question\": item[\"question\"],\n",
    "                    \"pass\": False,\n",
    "                    \"raw\": str(e),\n",
    "                }\n",
    "\n",
    "    tasks = [evaluate_item(item) for item in test_set]\n",
    "    results = []\n",
    "    for f in tqdm_asyncio.as_completed(tasks):\n",
    "        result = await f\n",
    "        results.append(result)\n",
    "    return results\n",
    "\n",
    "\n",
    "def calculate_pass_rate(results):\n",
    "    total = len(results)\n",
    "    passed = sum(1 for result in results if result[\"pass\"])\n",
    "    pass_rate = (passed / total) * 100\n",
    "    print(f\"Pass rate: {pass_rate:.2f}%\")\n",
    "    return pass_rate"
   ]
  },
  {
   "cell_type": "code",
   "execution_count": 87,
   "metadata": {},
   "outputs": [
    {
     "name": "stderr",
     "output_type": "stream",
     "text": [
      " 51%|███████████████▊               | 153/300 [00:13<00:14, 10.24it/s]"
     ]
    },
    {
     "name": "stdout",
     "output_type": "stream",
     "text": [
      "Exception: 'float' object has no attribute 'value'\n"
     ]
    },
    {
     "name": "stderr",
     "output_type": "stream",
     "text": [
      "100%|███████████████████████████████| 300/300 [00:24<00:00, 12.04it/s]\n"
     ]
    }
   ],
   "source": [
    "results= await evaluate(testing, predict, max_concurrent_requests=10)"
   ]
  },
  {
   "cell_type": "code",
   "execution_count": 88,
   "metadata": {},
   "outputs": [
    {
     "name": "stdout",
     "output_type": "stream",
     "text": [
      "Pass rate: 26.00%\n"
     ]
    },
    {
     "data": {
      "text/plain": [
       "26.0"
      ]
     },
     "execution_count": 88,
     "metadata": {},
     "output_type": "execute_result"
    }
   ],
   "source": [
    "calculate_pass_rate(results)\n"
   ]
  },
  {
   "cell_type": "markdown",
   "metadata": {},
   "source": [
    "\n",
    "## Chain Of Thought\n",
    "\n",
    "Let's instead ask for a solution based of a reasoning following by a numerical answer.\n",
    "\n"
   ]
  },
  {
   "cell_type": "code",
   "execution_count": 89,
   "metadata": {},
   "outputs": [],
   "source": [
    "from pydantic import BaseModel, Field\n",
    "\n",
    "\n",
    "class MathSolution(BaseModel):\n",
    "    \"\"\"A math solution with step-by-step reasoning and final answer\"\"\"\n",
    "\n",
    "    thoughts: str = Field(..., description=\"step-by-step solving of the problem\")\n",
    "    value: int = Field(description=\"The final numerical answer to the math problem\")\n",
    "\n",
    "\n",
    "@fn(model=\"openai/gpt3.5-turbo\")\n",
    "async def predict_cot(question: str) -> MathSolution:\n",
    "    \"\"\"Solves math problems\"\"\""
   ]
  },
  {
   "cell_type": "code",
   "execution_count": 90,
   "metadata": {},
   "outputs": [
    {
     "name": "stderr",
     "output_type": "stream",
     "text": [
      "100%|███████████████████████████████| 300/300 [00:19<00:00, 15.46it/s]\n"
     ]
    }
   ],
   "source": [
    "results = await evaluate(testing, predict_cot, max_concurrent_requests=100)"
   ]
  },
  {
   "cell_type": "code",
   "execution_count": 91,
   "metadata": {},
   "outputs": [
    {
     "name": "stdout",
     "output_type": "stream",
     "text": [
      "Pass rate: 74.33%\n"
     ]
    },
    {
     "data": {
      "text/plain": [
       "74.33333333333333"
      ]
     },
     "execution_count": 91,
     "metadata": {},
     "output_type": "execute_result"
    }
   ],
   "source": [
    "calculate_pass_rate(results)"
   ]
  },
  {
   "cell_type": "markdown",
   "metadata": {},
   "source": [
    "Much better! Now let's add some examples form the GSM8k dataset"
   ]
  },
  {
   "cell_type": "code",
   "execution_count": 92,
   "metadata": {},
   "outputs": [],
   "source": [
    "@fn(model=\"openai/gpt3.5-turbo\")\n",
    "async def predict_cot(question: str) -> MathSolution:\n",
    "    \"\"\"\n",
    "    Solves math problems\n",
    "\n",
    "    Examples:\n",
    "    - Question: Natalia sold clips to 48 of her friends in April, and then she sold half as many clips in May. How many clips did Natalia sell altogether in April and May?\n",
    "        Thoughts: Natalia sold 48/2 = <<48/2=24>>24 clips in May. Natalia sold 48+24 = <<48+24=72>>72 clips altogether in April and May.\n",
    "        Valuee: 72\n",
    "\n",
    "    - Question: Weng earns $12 an hour for babysitting. Yesterday, she just did 50 minutes of babysitting. How much did she earn?\n",
    "        Thoughts: Weng earns 12/60 = $<<12/60=0.2>>0.2 per minute. Working 50 minutes, she earned 0.2 x 50 = $<<0.2*50=10>>10.\n",
    "        Value: 10\n",
    "\n",
    "    - Question: James writes a 3-page letter to 2 different friends twice a week. How many pages does he write a year?\n",
    "        Thoughts: He writes each friend 3*2=<<3*2=6>>6 pages a week So he writes 6*2=<<6*2=12>>12 pages every week That means he writes 12*52=<<12*52=624>>624 pages a year\n",
    "        Value: 624\n",
    "    \"\"\""
   ]
  },
  {
   "cell_type": "code",
   "execution_count": 93,
   "metadata": {},
   "outputs": [
    {
     "name": "stderr",
     "output_type": "stream",
     "text": [
      "  0%|                                 | 1/300 [00:00<02:06,  2.37it/s]"
     ]
    },
    {
     "name": "stdout",
     "output_type": "stream",
     "text": [
      "Exception: \n"
     ]
    },
    {
     "name": "stderr",
     "output_type": "stream",
     "text": [
      " 84%|██████████████████████████     | 252/300 [00:16<00:02, 22.74it/s]"
     ]
    },
    {
     "name": "stdout",
     "output_type": "stream",
     "text": [
      "Exception: {\"detail\":\"Structured generation failed, could not generate response matching the schema.\"}\n"
     ]
    },
    {
     "name": "stderr",
     "output_type": "stream",
     "text": [
      "100%|███████████████████████████████| 300/300 [00:24<00:00, 12.30it/s]\n"
     ]
    }
   ],
   "source": [
    "results_manual_examples = await evaluate(testing, predict_cot, max_concurrent_requests=100)"
   ]
  },
  {
   "cell_type": "code",
   "execution_count": 94,
   "metadata": {},
   "outputs": [
    {
     "name": "stdout",
     "output_type": "stream",
     "text": [
      "Pass rate: 73.33%\n"
     ]
    },
    {
     "data": {
      "text/plain": [
       "73.33333333333333"
      ]
     },
     "execution_count": 94,
     "metadata": {},
     "output_type": "execute_result"
    }
   ],
   "source": [
    "calculate_pass_rate(results_manual_examples)"
   ]
  },
  {
   "cell_type": "markdown",
   "metadata": {},
   "source": [
    "# Synthetic examples\n",
    "\n",
    "Let's generate examples with Claude 3 Opus"
   ]
  },
  {
   "cell_type": "code",
   "execution_count": 95,
   "metadata": {},
   "outputs": [],
   "source": [
    "@fn(model=\"anthropic/claude-3-opus\")\n",
    "async def predict_cot_with_examples(question: str) -> MathSolution:\n",
    "    \"\"\"Solves math problems\"\"\""
   ]
  },
  {
   "cell_type": "code",
   "execution_count": 68,
   "metadata": {},
   "outputs": [
    {
     "data": {
      "text/plain": [
       "MathSolution(thoughts='To find the total number of clips Natalia sold in April and May:\\n1. In April, Natalia sold clips to 48 friends.\\n2. In May, she sold half as many clips as in April. \\n   Half of 48 is 48 ÷ 2 = 24.\\n   So in May, Natalia sold 24 clips.\\n3. To get the total, add the clips sold in April and May:\\n   April: 48 clips\\n   May: 24 clips \\n   Total: 48 + 24 = 72 clips\\n\\nTherefore, the total number of clips Natalia sold altogether in April and May is 72.', value=72)"
      ]
     },
     "execution_count": 68,
     "metadata": {},
     "output_type": "execute_result"
    }
   ],
   "source": [
    "await predict_cot_with_examples(training[0][\"question\"])"
   ]
  },
  {
   "cell_type": "code",
   "execution_count": 70,
   "metadata": {},
   "outputs": [
    {
     "name": "stdout",
     "output_type": "stream",
     "text": [
      "span_id='20fc20a8-e6b5-4a0d-9325-c6b9f375de07' message=None json_payload={'thoughts': \"1. Tina's regular hourly wage is $18.00\\n2. Her overtime hourly wage is $18.00 + ($18.00 / 2) = $27.00\\n3. Each day she works 8 regular hours and 2 overtime hours\\n4. For 8 regular hours she earns: 8 * $18.00 = $144.00\\n5. For 2 overtime hours she earns: 2 * $27.00 = $54.00\\n6. Her total earnings per day are: $144.00 + $54.00 = $198.00\\n7. She works 5 days, so her total earnings are: 5 * $198.00 = $990.00\", 'value': 990} error=None context=None cached=False\n",
      "span_id='7002e5c8-8a02-4a51-93c8-a6f480872392' message=None json_payload={'thoughts': \"Okay, let's solve this step-by-step:\\n1. The monster has eaten 3 ships over 300 years, one ship every 100 years.\\n2. Each new ship has twice as many people as the previous one. \\n3. Let's call the number of people on the first ship x.\\n4. Then the second ship had 2x people, and the third ship had 2(2x) = 4x people.\\n5. In total, the monster ate x + 2x + 4x people, which equals 847.\\n6. So the equation is: x + 2x + 4x = 847\\n7. Simplifying: 7x = 847\\n8. Solving for x: x = 847/7 = 121\\n9. Therefore, the first ship that was eaten 300 years ago had 121 people on it.\", 'value': 121} error=None context=None cached=False\n",
      "{\"detail\":\"Structured generation failed, could not generate response matching the schema.\"}\n",
      "span_id='02550ced-098d-4f24-a1db-cc863065a9c6' message=None json_payload={'thoughts': 'To solve this problem, we need to:\\n1. Find the number of coconut trees Randy has\\n2. Add the number of coconut trees to the number of mango trees\\n\\nRandy has 60 mango trees. \\nHe has 5 less than half as many coconut trees as mango trees.\\n\\nHalf of 60 is 30. \\n5 less than 30 is 25. \\n\\nSo Randy has 25 coconut trees.\\n\\nRandy has 60 mango trees and 25 coconut trees.\\n60 + 25 = 85\\n\\nTherefore, the total number of trees Randy has on his farm is 85.', 'value': 85} error=None context=None cached=False\n",
      "span_id='5b0f52aa-2b79-4805-b997-aa27c7cc1902' message=None json_payload={'thoughts': '1. Jasper bought 2 pounds of cheddar cheese for $10. So the price per pound of cheddar cheese is $10 / 2 = $5 per pound.\\n\\n2. The cream cheese costs half the price of the cheddar cheese. Since cheddar cheese is $5/lb, the cream cheese costs $5 / 2 = $2.50 for the pound he bought.\\n\\n3. The pack of cold cuts costs twice the price of the cheddar cheese. Since the cheddar cheese total is $10, the cold cuts pack costs $10 * 2 = $20.\\n\\n4. To calculate the total, sum the costs:\\n   Cheddar cheese: $10\\n   Cream cheese: $2.50\\n   Cold cuts: $20\\n   Total = $10 + $2.50 + $20 = $32.50', 'value': 32} error=None context=None cached=False\n",
      "span_id='e4d40d38-92de-40fe-b9fe-ea7b840390b0' message=None json_payload={'thoughts': \"Okay, let's solve this step-by-step:\\n1. Joy can read 8 pages in 20 minutes\\n2. To find how many pages she reads per minute:\\n   8 pages / 20 minutes = 0.4 pages per minute\\n3. There are 120 pages total she needs to read\\n4. To find how many minutes it will take her to read 120 pages:\\n   120 pages / 0.4 pages per minute = 300 minutes\\n5. To convert 300 minutes to hours:\\n   300 minutes / 60 minutes per hour = 5 hours\\nTherefore, it will take Joy 5 hours to read 120 pages.\", 'value': 5} error=None context=None cached=False\n",
      "span_id='06b11b64-1dc2-42c1-9dd7-de2ed57d770d' message=None json_payload={'thoughts': \"To calculate James' profit:\\n1. Find the selling price per DVD: $6 * 2.5 = $15 per DVD\\n2. Find his profit per DVD: $15 - $6 = $9 profit per DVD\\n3. Find how many DVDs he sells in 20 weeks:\\n   500 DVDs/day * 5 days/week * 20 weeks = 50,000 DVDs sold\\n4. Calculate his profit on DVD sales:\\n   $9/DVD * 50,000 DVDs = $450,000 profit on DVDs\\n5. Subtract the initial movie creation cost from the DVD profit:\\n   $450,000 - $2,000 = $448,000 total profit\", 'value': 448000} error=None context=None cached=False\n",
      "span_id='15a7b77d-a193-4243-b544-777cdd2eb32d' message=None json_payload={'thoughts': \"1. Understand the given information:\\n   * The profit is shared between Mike and Johnson in the ratio 2:5.\\n   * Johnson got $2500.\\n   * Mike spends $200 on a shirt.\\n\\n2. Find the total profit:\\n   * Mike's share : Johnson's share = 2 : 5\\n   * Johnson's share = $2500\\n   * Total profit = (2500 / 5) * 7 = $3500\\n\\n3. Find Mike's share of the profit:\\n   * Mike's share = (2500 / 5) * 2 = $1000\\n\\n4. Subtract the cost of the shirt from Mike's share:\\n   * Remaining amount = $1000 - $200 = $800\", 'value': 800} error=None context=None cached=False\n",
      "{\"detail\":\"Structured generation failed, could not generate response matching the schema.\"}\n",
      "span_id='c804bcc3-6fed-433b-b5b0-9a2f0b839f29' message=None json_payload={'thoughts': 'To calculate the total hours Roque spends traveling to and from work in a week:\\n\\n1. Calculate time spent walking per week:\\n   - Roque walks to and from work 3 times per week\\n   - Each walk to work takes 2 hours, so a round trip is 4 hours\\n   - Time spent walking per week = 3 walks * 4 hours = 12 hours\\n\\n2. Calculate time spent biking per week:\\n   - Roque bikes to and from work 2 times per week\\n   - Each bike ride to work takes 1 hour, so a round trip is 2 hours\\n   - Time spent biking per week = 2 bike rides * 2 hours = 4 hours\\n\\n3. Sum the total travel time:\\n   - Total travel time = Walking time + Biking time\\n   - Total travel time = 12 hours + 4 hours = 16 hours', 'value': 16} error=None context=None cached=False\n",
      "{\"detail\":\"Structured generation failed, could not generate response matching the schema.\"}\n"
     ]
    }
   ],
   "source": [
    "from opperai import AsyncClient\n",
    "from opperai.types import ChatPayload, Message\n",
    "\n",
    "op_client = AsyncClient()\n",
    "\n",
    "\n",
    "for qa in training[0:20]:\n",
    "    payload = ChatPayload(messages=[Message(role=\"user\", content=qa[\"question\"])])\n",
    "    try:\n",
    "        response = await op_client.functions.chat(\"predict_cot_with_examples\", payload)\n",
    "        print(response)\n",
    "        await op_client.spans.save_example(response.span_id)\n",
    "    except Exception as e:\n",
    "        print(e)\n",
    "        # It is possible the model fails to generate a response with the desired format\n",
    "        # when it thinks the answer is not numerical!\n",
    "        "
   ]
  },
  {
   "cell_type": "code",
   "execution_count": 96,
   "metadata": {},
   "outputs": [],
   "source": [
    "@fn(\n",
    "    model=\"openai/gpt3.5-turbo\",\n",
    "    few_shot=True,\n",
    "    few_shot_count=3,\n",
    ")\n",
    "async def predict_cot_with_examples(question: str) -> MathSolution:\n",
    "    \"\"\"Solves math problems\"\"\""
   ]
  },
  {
   "cell_type": "code",
   "execution_count": 97,
   "metadata": {},
   "outputs": [
    {
     "name": "stderr",
     "output_type": "stream",
     "text": [
      " 54%|████████████████▋              | 161/300 [00:15<00:07, 17.59it/s]"
     ]
    },
    {
     "name": "stdout",
     "output_type": "stream",
     "text": [
      "Exception: {\"detail\":\"Structured generation failed, could not generate response matching the schema.\"}\n"
     ]
    },
    {
     "name": "stderr",
     "output_type": "stream",
     "text": [
      " 84%|██████████████████████████     | 252/300 [00:20<00:02, 19.48it/s]"
     ]
    },
    {
     "name": "stdout",
     "output_type": "stream",
     "text": [
      "Exception: {\"detail\":\"Structured generation failed, could not generate response matching the schema.\"}\n"
     ]
    },
    {
     "name": "stderr",
     "output_type": "stream",
     "text": [
      " 90%|███████████████████████████▉   | 270/300 [00:21<00:01, 24.14it/s]"
     ]
    },
    {
     "name": "stdout",
     "output_type": "stream",
     "text": [
      "Exception: {\"detail\":\"Structured generation failed, could not generate response matching the schema.\"}\n"
     ]
    },
    {
     "name": "stderr",
     "output_type": "stream",
     "text": [
      " 91%|████████████████████████████▎  | 274/300 [00:22<00:02, 10.42it/s]"
     ]
    },
    {
     "name": "stdout",
     "output_type": "stream",
     "text": [
      "Exception: {\"detail\":\"Structured generation failed, could not generate response matching the schema.\"}\n"
     ]
    },
    {
     "name": "stderr",
     "output_type": "stream",
     "text": [
      " 94%|█████████████████████████████  | 281/300 [00:23<00:03,  5.78it/s]"
     ]
    },
    {
     "name": "stdout",
     "output_type": "stream",
     "text": [
      "Exception: {\"detail\":\"Structured generation failed, could not generate response matching the schema.\"}\n"
     ]
    },
    {
     "name": "stderr",
     "output_type": "stream",
     "text": [
      " 97%|██████████████████████████████▏| 292/300 [00:26<00:01,  4.07it/s]"
     ]
    },
    {
     "name": "stdout",
     "output_type": "stream",
     "text": [
      "Exception: {\"detail\":\"Structured generation failed, could not generate response matching the schema.\"}\n"
     ]
    },
    {
     "name": "stderr",
     "output_type": "stream",
     "text": [
      " 99%|██████████████████████████████▌| 296/300 [00:29<00:02,  1.65it/s]"
     ]
    },
    {
     "name": "stdout",
     "output_type": "stream",
     "text": [
      "Exception: {\"detail\":\"Structured generation failed, could not generate response matching the schema.\"}\n"
     ]
    },
    {
     "name": "stderr",
     "output_type": "stream",
     "text": [
      " 99%|██████████████████████████████▋| 297/300 [00:29<00:01,  1.96it/s]"
     ]
    },
    {
     "name": "stdout",
     "output_type": "stream",
     "text": [
      "Exception: {\"detail\":\"Structured generation failed, could not generate response matching the schema.\"}\n"
     ]
    },
    {
     "name": "stderr",
     "output_type": "stream",
     "text": [
      " 99%|██████████████████████████████▊| 298/300 [00:33<00:02,  1.39s/it]"
     ]
    },
    {
     "name": "stdout",
     "output_type": "stream",
     "text": [
      "Exception: {\"detail\":\"Structured generation failed, could not generate response matching the schema.\"}\n"
     ]
    },
    {
     "name": "stderr",
     "output_type": "stream",
     "text": [
      "100%|██████████████████████████████▉| 299/300 [00:34<00:01,  1.37s/it]"
     ]
    },
    {
     "name": "stdout",
     "output_type": "stream",
     "text": [
      "Exception: {\"detail\":\"Structured generation failed, could not generate response matching the schema.\"}\n"
     ]
    },
    {
     "name": "stderr",
     "output_type": "stream",
     "text": [
      "100%|███████████████████████████████| 300/300 [00:36<00:00,  8.31it/s]"
     ]
    },
    {
     "name": "stdout",
     "output_type": "stream",
     "text": [
      "Exception: {\"detail\":\"Structured generation failed, could not generate response matching the schema.\"}\n"
     ]
    },
    {
     "name": "stderr",
     "output_type": "stream",
     "text": [
      "\n"
     ]
    }
   ],
   "source": [
    "results_synthetic_examples = await evaluate(\n",
    "    testing, predict_cot_with_examples, max_concurrent_requests=100\n",
    ")"
   ]
  },
  {
   "cell_type": "code",
   "execution_count": 98,
   "metadata": {},
   "outputs": [
    {
     "name": "stdout",
     "output_type": "stream",
     "text": [
      "Pass rate: 77.67%\n"
     ]
    },
    {
     "data": {
      "text/plain": [
       "77.66666666666666"
      ]
     },
     "execution_count": 98,
     "metadata": {},
     "output_type": "execute_result"
    }
   ],
   "source": [
    "# We get between 77-81% most of the time here.\n",
    "calculate_pass_rate(results_synthetic_examples)\n",
    "\n"
   ]
  },
  {
   "cell_type": "markdown",
   "metadata": {},
   "source": [
    "And that's it! We leveraged synthetic example generation and chain of thought prompting to get much higher accuracy on the GSM8k benchmark"
   ]
  }
 ],
 "metadata": {
  "kernelspec": {
   "display_name": "Python 3 (ipykernel)",
   "language": "python",
   "name": "python3"
  },
  "language_info": {
   "codemirror_mode": {
    "name": "ipython",
    "version": 3
   },
   "file_extension": ".py",
   "mimetype": "text/x-python",
   "name": "python",
   "nbconvert_exporter": "python",
   "pygments_lexer": "ipython3",
   "version": "3.12.2"
  }
 },
 "nbformat": 4,
 "nbformat_minor": 4
}
