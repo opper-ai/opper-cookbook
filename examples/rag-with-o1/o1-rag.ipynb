{
 "cells": [
  {
   "cell_type": "markdown",
   "metadata": {},
   "source": [
    "# RAG with o1-preview and o1-mini\n",
    "\n",
    "Appendix to blog post"
   ]
  },
  {
   "cell_type": "code",
   "execution_count": 6,
   "metadata": {},
   "outputs": [
    {
     "name": "stdout",
     "output_type": "stream",
     "text": [
      "Requirement already satisfied: opperai in /Users/goransandahl/Development/opper-cookbook/.venv/lib/python3.11/site-packages (0.15.2)\n",
      "Requirement already satisfied: httpx==0.27.0 in /Users/goransandahl/Development/opper-cookbook/.venv/lib/python3.11/site-packages (from opperai) (0.27.0)\n",
      "Requirement already satisfied: httpx-sse==0.4.0 in /Users/goransandahl/Development/opper-cookbook/.venv/lib/python3.11/site-packages (from opperai) (0.4.0)\n",
      "Requirement already satisfied: pydantic in /Users/goransandahl/Development/opper-cookbook/.venv/lib/python3.11/site-packages (from opperai) (2.9.0)\n",
      "Requirement already satisfied: anyio in /Users/goransandahl/Development/opper-cookbook/.venv/lib/python3.11/site-packages (from httpx==0.27.0->opperai) (4.4.0)\n",
      "Requirement already satisfied: certifi in /Users/goransandahl/Development/opper-cookbook/.venv/lib/python3.11/site-packages (from httpx==0.27.0->opperai) (2024.8.30)\n",
      "Requirement already satisfied: httpcore==1.* in /Users/goransandahl/Development/opper-cookbook/.venv/lib/python3.11/site-packages (from httpx==0.27.0->opperai) (1.0.5)\n",
      "Requirement already satisfied: idna in /Users/goransandahl/Development/opper-cookbook/.venv/lib/python3.11/site-packages (from httpx==0.27.0->opperai) (3.8)\n",
      "Requirement already satisfied: sniffio in /Users/goransandahl/Development/opper-cookbook/.venv/lib/python3.11/site-packages (from httpx==0.27.0->opperai) (1.3.1)\n",
      "Requirement already satisfied: h11<0.15,>=0.13 in /Users/goransandahl/Development/opper-cookbook/.venv/lib/python3.11/site-packages (from httpcore==1.*->httpx==0.27.0->opperai) (0.14.0)\n",
      "Requirement already satisfied: annotated-types>=0.4.0 in /Users/goransandahl/Development/opper-cookbook/.venv/lib/python3.11/site-packages (from pydantic->opperai) (0.7.0)\n",
      "Requirement already satisfied: pydantic-core==2.23.2 in /Users/goransandahl/Development/opper-cookbook/.venv/lib/python3.11/site-packages (from pydantic->opperai) (2.23.2)\n",
      "Requirement already satisfied: typing-extensions>=4.6.1 in /Users/goransandahl/Development/opper-cookbook/.venv/lib/python3.11/site-packages (from pydantic->opperai) (4.12.2)\n",
      "Requirement already satisfied: tzdata in /Users/goransandahl/Development/opper-cookbook/.venv/lib/python3.11/site-packages (from pydantic->opperai) (2024.1)\n",
      "Requirement already satisfied: pydantic in /Users/goransandahl/Development/opper-cookbook/.venv/lib/python3.11/site-packages (2.9.0)\n",
      "Requirement already satisfied: annotated-types>=0.4.0 in /Users/goransandahl/Development/opper-cookbook/.venv/lib/python3.11/site-packages (from pydantic) (0.7.0)\n",
      "Requirement already satisfied: pydantic-core==2.23.2 in /Users/goransandahl/Development/opper-cookbook/.venv/lib/python3.11/site-packages (from pydantic) (2.23.2)\n",
      "Requirement already satisfied: typing-extensions>=4.6.1 in /Users/goransandahl/Development/opper-cookbook/.venv/lib/python3.11/site-packages (from pydantic) (4.12.2)\n",
      "Requirement already satisfied: tzdata in /Users/goransandahl/Development/opper-cookbook/.venv/lib/python3.11/site-packages (from pydantic) (2024.1)\n"
     ]
    }
   ],
   "source": [
    "# Install the datasets library from huggingface\n",
    "!pip install opperai -U\n",
    "!pip install pydantic\n"
   ]
  },
  {
   "cell_type": "markdown",
   "metadata": {},
   "source": [
    "## Imports"
   ]
  },
  {
   "cell_type": "code",
   "execution_count": 7,
   "metadata": {},
   "outputs": [],
   "source": [
    "import os\n",
    "from opperai import Opper, fn, Client, AsyncClient\n",
    "from opperai.types.indexes import RetrievalResponse\n",
    "from pydantic import BaseModel, Field\n",
    "from typing import List, Literal\n",
    "\n",
    "os.environ[\"OPPER_API_KEY\"] = \"<your opper api key here>\"\n",
    "\n",
    "opper = Opper()\n"
   ]
  },
  {
   "cell_type": "markdown",
   "metadata": {},
   "source": [
    "## Index PDF"
   ]
  },
  {
   "cell_type": "code",
   "execution_count": 8,
   "metadata": {},
   "outputs": [
    {
     "name": "stdout",
     "output_type": "stream",
     "text": [
      "Index(_client=<opperai._client.Client object at 0x106ee6650>, _index=Index(uuid=UUID('d485b596-9ff0-49a6-b78c-13fdad697f00'), name='reddit-s1', created_at=datetime.datetime(2024, 9, 15, 12, 57, 39, 717955, tzinfo=TzInfo(UTC))))\n"
     ]
    }
   ],
   "source": [
    "\n",
    "# We get or create our index\n",
    "index = opper.indexes.get(name=\"reddit-s1\")\n",
    "if not index:\n",
    "    index = opper.indexes.create(name=\"reddit-s1\")\n",
    "\n",
    "    # we upload our pdf to the index\n",
    "    index.upload_file(\n",
    "        file_path=\"./reddit-sec.pdf\",\n",
    "        )\n",
    "\n",
    "print(index)\n"
   ]
  },
  {
   "cell_type": "markdown",
   "metadata": {},
   "source": [
    "## Retrieve relevant knowledge"
   ]
  },
  {
   "cell_type": "code",
   "execution_count": 9,
   "metadata": {},
   "outputs": [
    {
     "name": "stdout",
     "output_type": "stream",
     "text": [
      "What are Reddit's core strengths in terms of user engagement and community building, and how do these strengths compare to competitors in the presence of AI-driven content moderation tools?\n",
      "What weaknesses does Reddit face in its current business model and platform infrastructure that could be exacerbated by the integration of AI technologies?\n",
      "What opportunities exist for Reddit to leverage AI to enhance user experience, personalization, and content discovery?\n",
      "What potential threats does the rise of AI pose to Reddit's market position, including risks related to AI-generated content, privacy concerns, and regulatory challenges?\n",
      "How is Reddit currently utilizing AI in its operations, and what data supports the effectiveness of these implementations?\n",
      "In what ways can AI-driven analytics provide insights into Reddit's user behavior and content trends to inform strategic decisions?\n",
      "What are the financial implications for Reddit in adopting and scaling AI technologies within its platform?\n",
      "How might AI impact Reddit's ability to attract and retain both users and advertisers, and what data highlights these effects?\n",
      "What are the ethical considerations for Reddit when deploying AI, and how might these influence the company's reputation and compliance with regulations?\n",
      "How can Reddit mitigate the potential negative impacts of AI while maximizing the benefits for its communities and business objectives?\n"
     ]
    }
   ],
   "source": [
    "question = \"Provide a data-driven SWOT analysis of Reddit with emphasis on impact from AI\"\n",
    "\n",
    "subquestions, _ = opper.call(\n",
    "    name=\"generate_subquestions\",\n",
    "    instructions=\"Given that you can query Reddit's S1 filing to answer the question, generate a list of subquestions that you would want the answer to in order to answer the main question. Only return the subquestions, not the question.\",\n",
    "    input=question,\n",
    "    output_type=List[str],\n",
    "    model=\"openai/o1-mini\"\n",
    ")\n",
    "knowledge = []\n",
    "for subquestion in subquestions:\n",
    "    print(subquestion)\n",
    "    result = index.query(\n",
    "        query=subquestion,\n",
    "        k=1\n",
    "    )\n",
    "    knowledge.append(result)\n",
    "\n",
    "# print(knowledge)\n",
    "    "
   ]
  },
  {
   "cell_type": "markdown",
   "metadata": {},
   "source": []
  },
  {
   "cell_type": "markdown",
   "metadata": {},
   "source": [
    "## Create response with citations"
   ]
  },
  {
   "cell_type": "code",
   "execution_count": 10,
   "metadata": {},
   "outputs": [
    {
     "name": "stdout",
     "output_type": "stream",
     "text": [
      "thoughts=\"After analyzing the provided knowledge, I have identified key points related to Reddit's strengths, weaknesses, opportunities, and threats, particularly focusing on the impact of AI. I have organized these points into a SWOT analysis with appropriate citations.\" answer=\"Strengths:\\n- Reddit's massive corpus of conversational data is foundational to current AI technology and many LLMs, making it valuable for model training [1].\\n- Reddit is investing in AI to enhance the user experience, making it more personalized and safer, and to improve search capabilities, which is expected to increase user engagement and retention [2].\\n- AI is expected to improve Reddit's ability to localize content and moderate content as they expand internationally [2].\\n\\nWeaknesses:\\n- New AI applications require additional investment, increasing costs and complexity, which may impact gross margin [3].\\n- Market acceptance of AI technologies is uncertain; Reddit may be unsuccessful in its product development efforts [3].\\n- Reddit may face competition from LLMs; users might choose to use AI models instead of visiting Reddit directly [4].\\n\\nOpportunities:\\n- Emerging opportunity in data licensing given the value of Reddit's data in sentiment analysis and trend identification [1].\\n- Reddit can harness AI to improve content recommendations, driving user growth and retention [2].\\n\\nThreats:\\n- AI is subject to evolving regulatory scrutiny; Reddit may need to adjust offerings as legal frameworks develop [3].\\n- Potential misuse of Reddit data by third parties could harm Reddit's business and reputation [3].\" citations=[Citation(file_name='reddit-sec.pdf', page_number=17, citation='We believe that Reddit will be core to the capabilities of organizations that use data as well as the next generation of generative AI and LLM platforms.'), Citation(file_name='reddit-sec.pdf', page_number=136, citation='We are investing in ways to harness AI to make the user experience more personalized and safer and to improve our search capabilities, which we expect will increase user engagement and retention.'), Citation(file_name='reddit-sec.pdf', page_number=66, citation='Developing, testing and deploying these technologies may also increase the cost profile of our offerings due to the nature of the computing costs involved in such initiatives. Moreover, market acceptance of AI technologies is uncertain, and we may be unsuccessful in our service or product development efforts.'), Citation(file_name='reddit-sec.pdf', page_number=43, citation='In addition, we face competition from large language models (\"LLMs\"), such as ChatGPT, Gemini, and Anthropic; Redditors may choose to find information using LLMs, which in some cases may have been trained using Reddit data, instead of visiting Reddit directly.')]\n"
     ]
    }
   ],
   "source": [
    "class Citation(BaseModel):\n",
    "    file_name: str \n",
    "    page_number: int \n",
    "    citation: str \n",
    "\n",
    "class Response(BaseModel):\n",
    "    thoughts: str\n",
    "    answer: str \n",
    "    citations: List[Citation]\n",
    "\n",
    "response, _ = opper.call(\n",
    "    name=\"o1/respond\",\n",
    "    model=\"openai/o1-preview\",\n",
    "    instructions=\"Produce an answer to the question using knowledge. Refer to any facts with [1], [2] etc.\",\n",
    "    input={\n",
    "        \"question\": question,\n",
    "        \"knowledge\": knowledge\n",
    "    },\n",
    "    output_type=Response\n",
    ")\n",
    "\n",
    "print(response)\n"
   ]
  },
  {
   "cell_type": "markdown",
   "metadata": {},
   "source": [
    "## Print results "
   ]
  },
  {
   "cell_type": "code",
   "execution_count": 11,
   "metadata": {},
   "outputs": [
    {
     "name": "stdout",
     "output_type": "stream",
     "text": [
      "Strengths:\n",
      "- Reddit's massive corpus of conversational data is foundational to current AI technology and many LLMs, making it valuable for model training [1].\n",
      "- Reddit is investing in AI to enhance the user experience, making it more personalized and safer, and to improve search capabilities, which is expected to increase user engagement and retention [2].\n",
      "- AI is expected to improve Reddit's ability to localize content and moderate content as they expand internationally [2].\n",
      "\n",
      "Weaknesses:\n",
      "- New AI applications require additional investment, increasing costs and complexity, which may impact gross margin [3].\n",
      "- Market acceptance of AI technologies is uncertain; Reddit may be unsuccessful in its product development efforts [3].\n",
      "- Reddit may face competition from LLMs; users might choose to use AI models instead of visiting Reddit directly [4].\n",
      "\n",
      "Opportunities:\n",
      "- Emerging opportunity in data licensing given the value of Reddit's data in sentiment analysis and trend identification [1].\n",
      "- Reddit can harness AI to improve content recommendations, driving user growth and retention [2].\n",
      "\n",
      "Threats:\n",
      "- AI is subject to evolving regulatory scrutiny; Reddit may need to adjust offerings as legal frameworks develop [3].\n",
      "- Potential misuse of Reddit data by third parties could harm Reddit's business and reputation [3].\n",
      "\n",
      "[1] \"We believe that Reddit will be core to the capabilities of organizations that use data as well as the next generation of generative AI and LLM platforms.\" from reddit-sec.pdf page 17\n",
      "[2] \"We are investing in ways to harness AI to make the user experience more personalized and safer and to improve our search capabilities, which we expect will increase user engagement and retention.\" from reddit-sec.pdf page 136\n",
      "[3] \"Developing, testing and deploying these technologies may also increase the cost profile of our offerings due to the nature of the computing costs involved in such initiatives. Moreover, market acceptance of AI technologies is uncertain, and we may be unsuccessful in our service or product development efforts.\" from reddit-sec.pdf page 66\n",
      "[4] \"In addition, we face competition from large language models (\"LLMs\"), such as ChatGPT, Gemini, and Anthropic; Redditors may choose to find information using LLMs, which in some cases may have been trained using Reddit data, instead of visiting Reddit directly.\" from reddit-sec.pdf page 43\n"
     ]
    }
   ],
   "source": [
    "print(response.answer)\n",
    "print()\n",
    "index = 1\n",
    "for citation in response.citations:\n",
    "    print(f\"[{index}]\", f'\"{citation.citation}\" from {citation.file_name} page {citation.page_number}')\n",
    "    index += 1\n",
    "    \n"
   ]
  }
 ],
 "metadata": {
  "kernelspec": {
   "display_name": ".venv",
   "language": "python",
   "name": "python3"
  },
  "language_info": {
   "codemirror_mode": {
    "name": "ipython",
    "version": 3
   },
   "file_extension": ".py",
   "mimetype": "text/x-python",
   "name": "python",
   "nbconvert_exporter": "python",
   "pygments_lexer": "ipython3",
   "version": "3.11.5"
  }
 },
 "nbformat": 4,
 "nbformat_minor": 2
}
